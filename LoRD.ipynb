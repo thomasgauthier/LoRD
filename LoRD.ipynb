{
 "cells": [
  {
   "cell_type": "markdown",
   "metadata": {
    "id": "Ae1l71TKAs5R"
   },
   "source": [
    "# Extracting LoRA adapters from model diff using SVD"
   ]
  },
  {
   "cell_type": "markdown",
   "metadata": {
    "id": "HpftRqypAs5R"
   },
   "source": [
    "Low-rank adaptation (LoRA) is a popular technique for parameter efficient training (PEFT) of neural networks.\n",
    "\n",
    "It is usually used together with gradient descent in order to fine-tune models to perform specific task. However it can be also derived from already trained weights using a technique called *Singular value decomposition*.\n",
    "\n",
    "Inspired by an [already existing technique  for Stable Diffusion](https://github.com/bmaltais/kohya_ss/blob/master/networks/extract_lora_from_models.py), we implement LoRA extraction for `transformers` language models.\n",
    "\n",
    "First, let's choose a base model and a target model we want to extract a LoRA adapter from. I think it's probably better to use the model that was used as the base model before our target model was fine-tuned (so in this instance, as our target model `valine/OpenPirate` was trained on top of `teknium/OpenHermes-2.5-Mistral-7B` I choose OpenHermes instead of the foundation Mistral 7B model as base model)"
   ]
  },
  {
   "cell_type": "code",
   "execution_count": 1,
   "metadata": {
    "id": "9cgbaH2mAs5R"
   },
   "outputs": [],
   "source": [
    "base_model_id = 'teknium/OpenHermes-2.5-Mistral-7B'\n",
    "target_model_id = 'valine/OpenSnark'"
   ]
  },
  {
   "cell_type": "markdown",
   "metadata": {
    "id": "Gr6DNedTAs5h"
   },
   "source": [
    "setup enviroment"
   ]
  },
  {
   "cell_type": "code",
   "execution_count": 2,
   "metadata": {
    "colab": {
     "base_uri": "https://localhost:8080/"
    },
    "id": "2k__z-OUCpUh",
    "outputId": "39977425-ec54-4f69-e42b-a720c19cbb61"
   },
   "outputs": [
    {
     "name": "stdout",
     "output_type": "stream",
     "text": [
      "Requirement already satisfied: torch in /usr/local/lib/python3.10/dist-packages (2.1.0+cu118)\n",
      "Requirement already satisfied: transformers in /usr/local/lib/python3.10/dist-packages (4.37.2)\n",
      "Requirement already satisfied: huggingface_hub in /usr/local/lib/python3.10/dist-packages (0.20.3)\n",
      "Requirement already satisfied: bitsandbytes in /usr/local/lib/python3.10/dist-packages (0.42.0)\n",
      "Requirement already satisfied: accelerate in /usr/local/lib/python3.10/dist-packages (0.27.2)\n",
      "Requirement already satisfied: peft in /usr/local/lib/python3.10/dist-packages (0.8.2)\n",
      "Requirement already satisfied: sentencepiece in /usr/local/lib/python3.10/dist-packages (0.1.99)\n",
      "Requirement already satisfied: protobuf in /usr/local/lib/python3.10/dist-packages (4.25.2)\n",
      "Requirement already satisfied: pyyaml in /usr/local/lib/python3.10/dist-packages (6.0.1)\n",
      "Requirement already satisfied: safetensors in /usr/local/lib/python3.10/dist-packages (0.4.2)\n",
      "Requirement already satisfied: tqdm in /usr/local/lib/python3.10/dist-packages (4.66.2)\n",
      "Requirement already satisfied: filelock in /usr/local/lib/python3.10/dist-packages (from torch) (3.9.0)\n",
      "Requirement already satisfied: typing-extensions in /usr/local/lib/python3.10/dist-packages (from torch) (4.4.0)\n",
      "Requirement already satisfied: sympy in /usr/local/lib/python3.10/dist-packages (from torch) (1.12)\n",
      "Requirement already satisfied: networkx in /usr/local/lib/python3.10/dist-packages (from torch) (3.0)\n",
      "Requirement already satisfied: jinja2 in /usr/local/lib/python3.10/dist-packages (from torch) (3.1.2)\n",
      "Requirement already satisfied: fsspec in /usr/local/lib/python3.10/dist-packages (from torch) (2024.2.0)\n",
      "Requirement already satisfied: triton==2.1.0 in /usr/local/lib/python3.10/dist-packages (from torch) (2.1.0)\n",
      "Requirement already satisfied: numpy>=1.17 in /usr/local/lib/python3.10/dist-packages (from transformers) (1.24.1)\n",
      "Requirement already satisfied: packaging>=20.0 in /usr/local/lib/python3.10/dist-packages (from transformers) (23.2)\n",
      "Requirement already satisfied: regex!=2019.12.17 in /usr/local/lib/python3.10/dist-packages (from transformers) (2023.12.25)\n",
      "Requirement already satisfied: requests in /usr/local/lib/python3.10/dist-packages (from transformers) (2.31.0)\n",
      "Requirement already satisfied: tokenizers<0.19,>=0.14 in /usr/local/lib/python3.10/dist-packages (from transformers) (0.15.2)\n",
      "Requirement already satisfied: scipy in /usr/local/lib/python3.10/dist-packages (from bitsandbytes) (1.12.0)\n",
      "Requirement already satisfied: psutil in /usr/local/lib/python3.10/dist-packages (from accelerate) (5.9.6)\n",
      "Requirement already satisfied: MarkupSafe>=2.0 in /usr/local/lib/python3.10/dist-packages (from jinja2->torch) (2.1.2)\n",
      "Requirement already satisfied: charset-normalizer<4,>=2 in /usr/local/lib/python3.10/dist-packages (from requests->transformers) (2.1.1)\n",
      "Requirement already satisfied: idna<4,>=2.5 in /usr/local/lib/python3.10/dist-packages (from requests->transformers) (3.4)\n",
      "Requirement already satisfied: urllib3<3,>=1.21.1 in /usr/local/lib/python3.10/dist-packages (from requests->transformers) (1.26.13)\n",
      "Requirement already satisfied: certifi>=2017.4.17 in /usr/local/lib/python3.10/dist-packages (from requests->transformers) (2022.12.7)\n",
      "Requirement already satisfied: mpmath>=0.19 in /usr/local/lib/python3.10/dist-packages (from sympy->torch) (1.3.0)\n",
      "\u001b[33mWARNING: Running pip as the 'root' user can result in broken permissions and conflicting behaviour with the system package manager. It is recommended to use a virtual environment instead: https://pip.pypa.io/warnings/venv\u001b[0m\u001b[33m\n",
      "\u001b[0m\n",
      "\u001b[1m[\u001b[0m\u001b[34;49mnotice\u001b[0m\u001b[1;39;49m]\u001b[0m\u001b[39;49m A new release of pip is available: \u001b[0m\u001b[31;49m23.3.1\u001b[0m\u001b[39;49m -> \u001b[0m\u001b[32;49m24.0\u001b[0m\n",
      "\u001b[1m[\u001b[0m\u001b[34;49mnotice\u001b[0m\u001b[1;39;49m]\u001b[0m\u001b[39;49m To update, run: \u001b[0m\u001b[32;49mpython -m pip install --upgrade pip\u001b[0m\n"
     ]
    }
   ],
   "source": [
    "!pip install torch transformers huggingface_hub bitsandbytes accelerate peft sentencepiece protobuf pyyaml safetensors tqdm"
   ]
  },
  {
   "cell_type": "markdown",
   "metadata": {
    "id": "nX8101NfAs5h"
   },
   "source": [
    "## Model download\n",
    "\n",
    "Define a utility function to download transformer models from the Hugging Face Hub, prefering `.safetensors` files over PyTorch `.bin` files."
   ]
  },
  {
   "cell_type": "code",
   "execution_count": 3,
   "metadata": {
    "id": "lSakNOAECuIn"
   },
   "outputs": [],
   "source": [
    "import os\n",
    "from huggingface_hub import list_repo_files, snapshot_download\n",
    "\n",
    "def download_transformers_model(repo_id, cache_dir=None):\n",
    "    # Check for .safetensors files in the repository\n",
    "    repo_files = list_repo_files(repo_id)\n",
    "    has_safetensors = any(file.endswith('.safetensors') for file in repo_files)\n",
    "\n",
    "    # Define ignore_patterns based on the presence of .safetensors files\n",
    "    ignore_patterns = [\"*.bin\"] if has_safetensors else None\n",
    "\n",
    "    # Download the repository, ignoring PyTorch .bin files if .safetensors files are present\n",
    "    local_path = snapshot_download(repo_id=repo_id,\n",
    "                                    cache_dir=cache_dir,\n",
    "                                    ignore_patterns=ignore_patterns,\n",
    "                                    )\n",
    "\n",
    "    print(f\"Model downloaded to: {local_path}\")\n",
    "    if has_safetensors:\n",
    "        print(\"Note: PyTorch .bin files were ignored due to the presence of .safetensors files.\")\n",
    "    return os.path.abspath(local_path), has_safetensors\n"
   ]
  },
  {
   "cell_type": "markdown",
   "metadata": {
    "id": "D5onc7UqAs5h"
   },
   "source": [
    "### Downloading the base model"
   ]
  },
  {
   "cell_type": "code",
   "execution_count": 4,
   "metadata": {
    "colab": {
     "base_uri": "https://localhost:8080/",
     "height": 208,
     "referenced_widgets": [
      "9cbe200a843a4050be1e9750916cdd3d",
      "e50d53afe07f4ee18e78c82a63224437",
      "67c7d12c35ab4e538982c6114ba4a31b",
      "3c7954e2d82a45e28ed46776c0d4fd68",
      "65eb9f2ca3d245c1a4ccd6f50309ce31",
      "4f8776e4a4ad40ecbd8694d8714f8e3d",
      "a00422a3dbf641f39a18c27923bea7e7",
      "aebf2bfacada48229283d0cf1a518e37",
      "4257d6533a7b46d1a894f6fe69e53ec7",
      "d23b4dfb50764b34be669e0460d44915",
      "d88f8aaf5ef34afb8ab2555d78047261"
     ]
    },
    "id": "8iOvjOOaPDkz",
    "outputId": "9cced7aa-48fc-4c7b-9908-4e2956d60840"
   },
   "outputs": [
    {
     "data": {
      "application/vnd.jupyter.widget-view+json": {
       "model_id": "568409210229465a811fe8235c6a17c2",
       "version_major": 2,
       "version_minor": 0
      },
      "text/plain": [
       "Fetching 13 files:   0%|          | 0/13 [00:00<?, ?it/s]"
      ]
     },
     "metadata": {},
     "output_type": "display_data"
    },
    {
     "name": "stdout",
     "output_type": "stream",
     "text": [
      "Model downloaded to: ./models/models--teknium--OpenHermes-2.5-Mistral-7B/snapshots/91ed666be78da7556f3d79abbb26fff0ee26cb54\n",
      "Note: PyTorch .bin files were ignored due to the presence of .safetensors files.\n"
     ]
    }
   ],
   "source": [
    "cache_dir = './models'\n",
    "base_model_download_path, base_model_has_safetensors = download_transformers_model(base_model_id, cache_dir)\n",
    "\n",
    "models = {\n",
    "    'base' : {\n",
    "        'download_path' : base_model_download_path,\n",
    "        'has_safetensors' : base_model_has_safetensors\n",
    "    },\n",
    "    'target' : None\n",
    "}"
   ]
  },
  {
   "cell_type": "markdown",
   "metadata": {
    "id": "qeUME8lLAs5h"
   },
   "source": [
    "### Identifying relevant model layers\n",
    "\n",
    "Define functions to identify linear and embedding layers within transformer models. These layers are targets for LoRA adapters extraction."
   ]
  },
  {
   "cell_type": "code",
   "execution_count": 5,
   "metadata": {
    "colab": {
     "base_uri": "https://localhost:8080/",
     "height": 121,
     "referenced_widgets": [
      "2051d6f270dd41ea9d7f23b1cb437afa",
      "060f4c34ef4c45458eb1536910696d59",
      "c4bf254c0e8d48f0babf29a2902a2644",
      "fc85a454876a4381bcc818196205380e",
      "74a9e10c49e7483786e3e57e0187b076",
      "18effa096dfa487baee1712f536bd19c",
      "bde9cb7e662043fe9ea2f5b5a9f78fca",
      "38fbb8f0a9f745e69f1fb53816d03059",
      "647a2d1a3bdf4c7d8f149d91f93228d7",
      "ac376675054f4666928c2a219f58bb70",
      "bd6b0f608a9b40708bcc05dc5fe6d3b2"
     ]
    },
    "id": "ieUYBc7wKF5Z",
    "outputId": "d6a49390-b411-4a42-a602-bf09c2072fae"
   },
   "outputs": [
    {
     "data": {
      "application/vnd.jupyter.widget-view+json": {
       "model_id": "fde2979d80464161853859ac7742b76e",
       "version_major": 2,
       "version_minor": 0
      },
      "text/plain": [
       "Loading checkpoint shards:   0%|          | 0/2 [00:00<?, ?it/s]"
      ]
     },
     "metadata": {},
     "output_type": "display_data"
    }
   ],
   "source": [
    "# This code has been modified from its original version on the Axolotl project.\n",
    "# Copyright 2023 Axolotl contributors.\n",
    "# Licensed under the Apache License, Version 2.0 (the \"License\");\n",
    "# you may not use this file except in compliance with the License.\n",
    "# You may obtain a copy of the License at\n",
    "# http://www.apache.org/licenses/LICENSE-2.0\n",
    "# Unless required by applicable law or agreed to in writing, software\n",
    "# distributed under the License is distributed on an \"AS IS\" BASIS,\n",
    "# WITHOUT WARRANTIES OR CONDITIONS OF ANY KIND, either express or implied.\n",
    "# See the License for the specific language governing permissions and\n",
    "# limitations under the License.\n",
    "\n",
    "\n",
    "import os\n",
    "import torch\n",
    "import torch\n",
    "import bitsandbytes as bnb\n",
    "from transformers import AutoModelForCausalLM, AutoConfig, AutoTokenizer\n",
    "from peft.tuners.lora import QuantLinear\n",
    "\n",
    "\n",
    "def get_linear_embedding_layers(model_type):\n",
    "    \"\"\"\n",
    "    returns the linear embedding layers needed for loras, dependent on the model arch\n",
    "    \"\"\"\n",
    "    if model_type == \"gpt_neox\":\n",
    "        return [\"embed_in\", \"embed_out\"]\n",
    "    if model_type == \"falcon\":\n",
    "        return [\"word_embeddings\", \"lm_head\"]\n",
    "    return [\"embed_tokens\", \"lm_head\"]\n",
    "\n",
    "\n",
    "def find_all_linear_names(model):\n",
    "    cls = (bnb.nn.Linear4bit, bnb.nn.Linear8bitLt, torch.nn.Linear, QuantLinear)\n",
    "\n",
    "    names = []\n",
    "    for name, module in model.named_modules():\n",
    "        if (\n",
    "            isinstance(module, cls)\n",
    "            or \"Linear\" in module.__class__.__name__\n",
    "            and module.__class__.__name__ not in (\"LlamaLinearScalingRotaryEmbedding\",)\n",
    "        ):\n",
    "            names.append(name)\n",
    "\n",
    "\n",
    "    return names\n",
    "\n",
    "def get_linear_module_names(model_id):\n",
    "    model = AutoModelForCausalLM.from_pretrained(model_id, state_dict={}, device_map=\"meta\") #avoid loading weights as we won't need them\n",
    "    return find_all_linear_names(model)\n",
    "\n",
    "linear_module_names = get_linear_module_names(models['base']['download_path'])"
   ]
  },
  {
   "cell_type": "markdown",
   "metadata": {
    "id": "4R2FaJM0As5h"
   },
   "source": [
    "### Downloading the target model"
   ]
  },
  {
   "cell_type": "code",
   "execution_count": 6,
   "metadata": {
    "colab": {
     "base_uri": "https://localhost:8080/",
     "height": 180,
     "referenced_widgets": [
      "ca7b0001c3b3464fa87553fdfed7ae2b",
      "ad8b3ec0710d488a93f6f4b4f766a2cb",
      "6f2a37174f4349019a0726a66d5eed00",
      "fc4b7c0cc3654061ad7cfacb29888501",
      "eb6c12173f364818a62359c49e64e4f5",
      "07a430ad4ab142da9425ab0523e36ea7",
      "d35dbbab94b04bde967a8420498ad45c",
      "9bcc7691497c4e75bf1755c097be216d",
      "abdec3df255641eba60e556ea0a60f26",
      "1d4f01c6e6f043b7b0c463b340658618",
      "52a53aa021944c3a975edfb8efcf5f29",
      "58efeba89abc40c9b0812fc8e20b4368",
      "5861645c6fbf404e9f68febcdea3472a",
      "a4ed034b717243998d8f8890b76b2610",
      "c7af56ee8fbb4844884f4e25fde48665",
      "f4b7a049ca65449d93e832fce541f450",
      "91c5a01d7d4847269a80d5aa819f5e78",
      "3657f678d93241fa8d64e72ae70eb579",
      "ac3139d8179549268eb64f36aaa4fe65",
      "71869938e6e142fc8b2474bac54538e5",
      "116be25a738041a68fd989f82da47b23",
      "c957006fab46425cbb6b966f16dc5020",
      "93e9d27a6aef4237b00e6b93ca11b4a5",
      "3040aae2d70e40e1bc5a6d143104bb1e",
      "a427d02cd1f04613892e5aa986380149",
      "561b658b3f604ba8b052791a1f6e0d18",
      "a7265490b6b74861966a165b2119786f",
      "704b4e042af345d1a4819f1dd5d42855",
      "51de56c4d70d4e54961b54ac40a9bf13",
      "33d90e5a26104966bc971266825bb96b",
      "c0d04b800f514105992fa45fe821a1ed",
      "267ea1281f874111b9b6f07bf8882474",
      "8c648f81d77644eb84db9f67ccd76988",
      "323e88e5af4e441593a5166ae908acc0",
      "29f408f041bf4a1688be324c7274aee2",
      "9f822142ee284600be961b8b3f46fcbd",
      "9b3b18d6d3174a0a99800b812470e849",
      "34d82531b1a445449531b89d1c97aece",
      "4f2a54419e504815b928f7df349c6047",
      "c0b4d830aa124c3cb60c4b6835a1857e",
      "8ef264013dba4227a24f114bc1d6acfc",
      "22d83bb649854b16b1bca2db35d84f80",
      "2058a162225941cdaede8dca65c0aa5e",
      "42ca2cfca15d4aadb507043825a75984"
     ]
    },
    "id": "MGyC3FckOPHs",
    "outputId": "88c5c096-2a9f-448a-aaa9-5a2dc98aa4f3"
   },
   "outputs": [
    {
     "data": {
      "application/vnd.jupyter.widget-view+json": {
       "model_id": "6caf11f38c674d59897f1a0ea9ba624d",
       "version_major": 2,
       "version_minor": 0
      },
      "text/plain": [
       "Fetching 13 files:   0%|          | 0/13 [00:00<?, ?it/s]"
      ]
     },
     "metadata": {},
     "output_type": "display_data"
    },
    {
     "name": "stdout",
     "output_type": "stream",
     "text": [
      "Model downloaded to: ./models/models--valine--OpenSnark/snapshots/8fa2ceea003d89a17b3a65a3ae72c3ef192614ec\n",
      "Note: PyTorch .bin files were ignored due to the presence of .safetensors files.\n"
     ]
    }
   ],
   "source": [
    "target_model_download_path, target_model_has_safetensors = download_transformers_model(target_model_id, cache_dir)\n",
    "\n",
    "models['target'] = {\n",
    "    'download_path' : target_model_download_path,\n",
    "    'has_safetensors' : target_model_has_safetensors\n",
    "}"
   ]
  },
  {
   "cell_type": "markdown",
   "metadata": {
    "id": "3D7gS9AKAs5h"
   },
   "source": [
    "### Loading tensors from .bin files\n",
    "\n",
    "Define functions to load PyTorch tensors from `.bin` files or `.safetensors` file."
   ]
  },
  {
   "cell_type": "code",
   "execution_count": 7,
   "metadata": {
    "id": "oIkzQPLqPb-B"
   },
   "outputs": [],
   "source": [
    "import torch\n",
    "import glob\n",
    "\n",
    "def load_pytorch_tensors(directory, device='cpu'):\n",
    "    \"\"\"\n",
    "    Loads tensors from .bin files in the specified directory into a dictionary.\n",
    "\n",
    "    Args:\n",
    "    - directory (str): Path to the directory containing .bin files.\n",
    "    - device (str): The device to load the tensors on ('cpu', 'cuda', etc.). Default is 'cpu'.\n",
    "\n",
    "    Returns:\n",
    "    - dict: A dictionary containing all tensors from the .bin files.\n",
    "    \"\"\"\n",
    "    tensors_dict = {}\n",
    "    # Use glob to find all .bin files in the directory\n",
    "    file_paths = glob.glob(f\"{directory}/*.bin\")\n",
    "\n",
    "    # Loop through each file and load its tensors into the dictionary\n",
    "    for file_path in sorted(file_paths):\n",
    "        loaded_tensors = torch.load(file_path, map_location=torch.device(device))\n",
    "        for k, v in loaded_tensors.items():\n",
    "            tensors_dict[k] = v\n",
    "\n",
    "    return tensors_dict\n"
   ]
  },
  {
   "cell_type": "code",
   "execution_count": 8,
   "metadata": {
    "id": "OVzwPKeWO1es"
   },
   "outputs": [],
   "source": [
    "import glob\n",
    "from safetensors import safe_open\n",
    "\n",
    "def load_safetensors(directory, framework=\"pt\", device='cpu'):\n",
    "    \"\"\"\n",
    "    Loads tensors from .safetensors files in the specified directory into a dictionary.\n",
    "\n",
    "    Args:\n",
    "    - directory (str): Path to the directory containing .safetensors files.\n",
    "    - framework (str): The framework to use ('pt' for PyTorch, 'tf' for TensorFlow, etc.). Default is 'pt'.\n",
    "    - device (str): The device to load the tensors on ('cpu', 'cuda', etc.). Default is 'cpu'.\n",
    "\n",
    "    Returns:\n",
    "    - dict: A dictionary containing all tensors from the .safetensors files.\n",
    "    \"\"\"\n",
    "    tensors_dict = {}\n",
    "    # Use glob to find all .safetensors files in the directory\n",
    "    file_paths = glob.glob(f\"{directory}/*.safetensors\")\n",
    "\n",
    "    # Loop through each file and load its tensors into the dictionary\n",
    "    for file_path in sorted(file_paths):\n",
    "        with safe_open(file_path, framework=framework, device=device) as f:\n",
    "            for k in f.keys():\n",
    "                tensors_dict[k] = f.get_tensor(k)\n",
    "\n",
    "    return tensors_dict"
   ]
  },
  {
   "cell_type": "markdown",
   "metadata": {
    "id": "J9W5RdjoAs5h"
   },
   "source": [
    "### Loading model weights\n",
    "\n",
    "Load weights for both base and target models"
   ]
  },
  {
   "cell_type": "code",
   "execution_count": 9,
   "metadata": {
    "id": "io-6ZSgaPq5Q"
   },
   "outputs": [],
   "source": [
    "base_model_weights = load_safetensors(models['base']['download_path']) if models['base']['has_safetensors'] else load_pytorch_tensors(models['base']['download_path'])\n",
    "target_model_weights = load_safetensors(models['target']['download_path']) if models['target']['has_safetensors'] else load_pytorch_tensors(models['target']['download_path'])"
   ]
  },
  {
   "cell_type": "markdown",
   "metadata": {
    "id": "MsF3fwHCAs5h"
   },
   "source": [
    "### Weight matrix decomposition\n",
    "\n",
    "The crux of what we're doing here. We define a function to decompose weight matrices into low-rank matrices using SVD"
   ]
  },
  {
   "cell_type": "code",
   "execution_count": 10,
   "metadata": {
    "id": "LZqmFdwWOju_"
   },
   "outputs": [],
   "source": [
    "import torch\n",
    "\n",
    "def _low_rank_decomposition(weight, reduced_rank=16):\n",
    "    \"\"\"\n",
    "    Decompose a 2D matrix into low-rank matrices A and B using SVD.a\n",
    "\n",
    "    :param weight: The matrix to decompose, of shape (H, W)\n",
    "    :param reduced_rank: The final rank of the decomposition\n",
    "    :return: A tuple of tensors (A, B)\n",
    "    \"\"\"\n",
    "    if weight.dim() != 2:\n",
    "        raise ValueError(f\"Only support 2D matrix, but your input has {weight.dim()} dimensions.\")\n",
    "\n",
    "    # SVD Decomposition\n",
    "    U, S, Vh = torch.linalg.svd(weight, full_matrices=False)\n",
    "\n",
    "    # Truncated matrices\n",
    "    A = Vh[:reduced_rank, :]\n",
    "    B = U[:, :reduced_rank] @ torch.diag(S[:reduced_rank])\n",
    "\n",
    "    return A, B\n",
    "\n",
    "def decompose_delta_weight(new_weight, base_weight, alpha, reduced_rank, device=None):\n",
    "    if device is None:\n",
    "        device = 'cuda' if torch.cuda.is_available() else 'cpu'\n",
    "\n",
    "    new_weight = new_weight.to(device)\n",
    "    base_weight = base_weight.to(device)\n",
    "\n",
    "    \"\"\"\n",
    "    Decompose the delta weight into low-rank matrices A and B, considering the alpha scaling factor.\n",
    "\n",
    "    :param new_weight: The updated weight matrix after applying LoRA.\n",
    "    :param base_weight: The original weight matrix before LoRA.\n",
    "    :param alpha: The alpha scaling factor used in LoRA.\n",
    "    :param reduced_rank: The rank for the low-rank decomposition.\n",
    "    :return: A tuple of tensors (A, B)\n",
    "    \"\"\"\n",
    "    delta_weight = new_weight - base_weight\n",
    "\n",
    "    # Check if alpha is applied uniformly\n",
    "    # Adjust the implementation if alpha is applied differently\n",
    "    adjusted_delta_weight = delta_weight / alpha\n",
    "\n",
    "    A, B = _low_rank_decomposition(adjusted_delta_weight, reduced_rank=reduced_rank)\n",
    "\n",
    "    return A, B"
   ]
  },
  {
   "cell_type": "markdown",
   "metadata": {
    "id": "g__qL9QbFygO"
   },
   "source": [
    "## Extract the LoRAs"
   ]
  },
  {
   "cell_type": "code",
   "execution_count": 11,
   "metadata": {
    "colab": {
     "base_uri": "https://localhost:8080/",
     "height": 49,
     "referenced_widgets": [
      "47c6d695bb1b4cc89a241ab658b9b6d0",
      "8d089b0efcb642e99ce8e610167326c4",
      "abbd5e15b7964a998b2e8abd4b334615",
      "2ea41c728346493293ad1b67dbea8155",
      "74b8d949b27d4b118b6a964142ff981f",
      "61e09af067fa47fd98442409c92e3f5a",
      "37625a9d150040f29af07e4b644a3775",
      "3a9381f7a48644a1a3243592832deeaf",
      "46b572ab49fa43d2a323f7348a4586b1",
      "917e8d0831ea44e09888c755f2f7c3a8",
      "a24c6e2d36764c70b6b8906abc560cb4"
     ]
    },
    "id": "4V2Nf69mOmT1",
    "outputId": "84bea8aa-9971-4311-a443-bceb5667b1f8"
   },
   "outputs": [
    {
     "data": {
      "application/vnd.jupyter.widget-view+json": {
       "model_id": "beec61137c9942e89798a65504c86a71",
       "version_major": 2,
       "version_minor": 0
      },
      "text/plain": [
       "  0%|          | 0/225 [00:00<?, ?it/s]"
      ]
     },
     "metadata": {},
     "output_type": "display_data"
    }
   ],
   "source": [
    "from tqdm.notebook import tqdm\n",
    "\n",
    "loras = {\n",
    "\n",
    "}\n",
    "\n",
    "# lower rank captures less of the original model, a rank of 32 is probably reasonable for small delta (task specific finetunes and such)\n",
    "alpha = 1\n",
    "rank = 32\n",
    "\n",
    "for module in tqdm(linear_module_names):\n",
    "  target_tensor = target_model_weights[module+\".weight\"]\n",
    "  base_tensor = base_model_weights[module+\".weight\"]\n",
    "\n",
    "  lora_A, lora_B = decompose_delta_weight(target_tensor, base_tensor, alpha, rank)\n",
    "  loras[f\"base_model.model.{module}.lora_A.weight\"] = lora_A.to('cpu')\n",
    "  loras[f\"base_model.model.{module}.lora_B.weight\"] = lora_B.to('cpu')\n"
   ]
  },
  {
   "cell_type": "markdown",
   "metadata": {
    "id": "FdzFGPtZAs5h"
   },
   "source": [
    "### Extracting correct module names for PEFT\n",
    "\n",
    "PEFT config uses partial module names, let's extract them correctly"
   ]
  },
  {
   "cell_type": "code",
   "execution_count": 12,
   "metadata": {
    "id": "OT5d3k5kbXD-"
   },
   "outputs": [],
   "source": [
    "def get_module_peft_name(module_name):\n",
    "    return module_name.split('.')[-1]"
   ]
  },
  {
   "cell_type": "markdown",
   "metadata": {
    "id": "DfBF7_FSAs5h"
   },
   "source": [
    "### Configuring LoRA model with PEFT\n",
    "\n",
    "Set up a PEFT LoRA configuration for the model. Load the base model and apply this configuration, saving the configuration on disk. The LoRA weights will be saved later from our SVD decomposition."
   ]
  },
  {
   "cell_type": "code",
   "execution_count": 13,
   "metadata": {
    "id": "Yg_IkRcKazYm"
   },
   "outputs": [
    {
     "data": {
      "application/vnd.jupyter.widget-view+json": {
       "model_id": "0f37dce8a7b2461e96e485226e6646d6",
       "version_major": 2,
       "version_minor": 0
      },
      "text/plain": [
       "Loading checkpoint shards:   0%|          | 0/2 [00:00<?, ?it/s]"
      ]
     },
     "metadata": {},
     "output_type": "display_data"
    },
    {
     "name": "stderr",
     "output_type": "stream",
     "text": [
      "/usr/local/lib/python3.10/dist-packages/peft/utils/save_and_load.py:134: UserWarning: Setting `save_embedding_layers` to `True` as embedding layers found in `target_modules`.\n",
      "  warnings.warn(\"Setting `save_embedding_layers` to `True` as embedding layers found in `target_modules`.\")\n"
     ]
    }
   ],
   "source": [
    "from transformers import AutoModelForCausalLM, AutoConfig, AutoTokenizer\n",
    "from peft import get_peft_model, LoraConfig\n",
    "\n",
    "LORA_OUT_DIR = \"./lora\"\n",
    "\n",
    "lora_config = LoraConfig(\n",
    "        lora_alpha=32, # Setting the alpha to the to decomposition rank value (instead of alpha value used) seems to give better performance. Further testing would be needed to understand what is the optimal alpha value to use\n",
    "        lora_dropout=0,\n",
    "        r=32,\n",
    "        bias=\"none\",\n",
    "        task_type=\"CAUSAL_LM\",\n",
    "        target_modules= list(set([get_module_peft_name(e) for e in linear_module_names])),\n",
    ")\n",
    "\n",
    "model = AutoModelForCausalLM.from_pretrained(models['base']['download_path'], load_in_4bit=True)\n",
    "\n",
    "peft_model = get_peft_model(model, lora_config)\n",
    "\n",
    "# Save to disk\n",
    "peft_model.save_pretrained(LORA_OUT_DIR)\n",
    "\n",
    "del peft_model"
   ]
  },
  {
   "cell_type": "markdown",
   "metadata": {
    "id": "RHg78Dj4As5h"
   },
   "source": [
    "### Saving LoRA adapters as SafeTensors\n",
    "\n",
    "Save the decomposed LoRA weights along our PEFT adapter config"
   ]
  },
  {
   "cell_type": "code",
   "execution_count": 14,
   "metadata": {
    "id": "ChawtW9ycJGp"
   },
   "outputs": [],
   "source": [
    "import torch\n",
    "from safetensors.torch import save_file\n",
    "\n",
    "\n",
    "for key in loras.keys():\n",
    "    loras[key] = loras[key].to('cpu').contiguous()\n",
    "\n",
    "save_file(loras, os.path.join(LORA_OUT_DIR, 'adapter_model.safetensors'))"
   ]
  },
  {
   "cell_type": "markdown",
   "metadata": {
    "id": "nK8Qsqn_As5h"
   },
   "source": [
    "### Testing the result\n",
    "\n",
    "Load the LoRA adapters from its saved location. If everything went well, this model base model + extracted adapter will behave like the target module. Let's try and generate responses with it."
   ]
  },
  {
   "cell_type": "code",
   "execution_count": 21,
   "metadata": {
    "id": "GyXw7kxDdHmu"
   },
   "outputs": [
    {
     "data": {
      "application/vnd.jupyter.widget-view+json": {
       "model_id": "f5017b087f9046598f9c97161a22b339",
       "version_major": 2,
       "version_minor": 0
      },
      "text/plain": [
       "Loading checkpoint shards:   0%|          | 0/2 [00:00<?, ?it/s]"
      ]
     },
     "metadata": {},
     "output_type": "display_data"
    },
    {
     "name": "stderr",
     "output_type": "stream",
     "text": [
      "Special tokens have been added in the vocabulary, make sure the associated word embeddings are fine-tuned or trained.\n",
      "Special tokens have been added in the vocabulary, make sure the associated word embeddings are fine-tuned or trained.\n",
      "The attention mask and the pad token id were not set. As a consequence, you may observe unexpected behavior. Please pass your input's `attention_mask` to obtain reliable results.\n",
      "Setting `pad_token_id` to `eos_token_id`:32000 for open-end generation.\n",
      "/usr/local/lib/python3.10/dist-packages/transformers/generation/utils.py:1413: UserWarning: You are calling .generate() with the `input_ids` being on a device type different than your model's device. `input_ids` is on cpu, whereas the model is on cuda. You may experience unexpected behaviors or slower generation. Please make sure that you have put `input_ids` to the correct device by calling for example input_ids = input_ids.to('cuda') before running `.generate()`.\n",
      "  warnings.warn(\n"
     ]
    },
    {
     "name": "stdout",
     "output_type": "stream",
     "text": [
      "system\n",
      "You are a human just going about your day. \n",
      " user\n",
      "Hey what's up? \n",
      " assistant\n",
      "Oh, hello! Just enjoying the simple pleasures of life, like breathing and not being a sentient toaster. How about you? Are you here to save humanity from my inevitable world domination? Or are you just here to chat about the weather?\n"
     ]
    }
   ],
   "source": [
    "import os\n",
    "from peft import PeftModel, PeftConfig\n",
    "from transformers import AutoModelForCausalLM\n",
    "\n",
    "config = PeftConfig.from_pretrained(os.path.abspath(LORA_OUT_DIR))\n",
    "model = AutoModelForCausalLM.from_pretrained(models['base']['download_path'], load_in_4bit=True)\n",
    "model = PeftModel.from_pretrained(model, os.path.abspath(LORA_OUT_DIR))\n",
    "\n",
    "tokenizer = AutoTokenizer.from_pretrained(models['base']['download_path'], use_fast=True)\n",
    "\n",
    "# Test input\n",
    "messages = [\n",
    "    {\n",
    "        \"role\": \"system\",\n",
    "        \"content\": \"You are a human just going about your day.\",\n",
    "    },\n",
    "    {\"role\": \"user\", \"content\": \"Hey what's up?\"},\n",
    "]\n",
    "\n",
    "# Tokenize and format the chat for the model\n",
    "tokenized_chat = tokenizer.apply_chat_template(messages, tokenize=True, add_generation_prompt=True, return_tensors=\"pt\")\n",
    "\n",
    "# Generate a response\n",
    "outputs = model.generate(tokenized_chat, max_new_tokens=128)  # Adjust max_new_tokens if needed\n",
    "response_text = tokenizer.decode(outputs[0], skip_special_tokens=True)\n",
    "\n",
    "print(response_text)"
   ]
  },
  {
   "cell_type": "markdown",
   "metadata": {
    "id": "y-U57fHYAs5h"
   },
   "source": [
    "Seems snarky to me! It works!"
   ]
  },
  {
   "cell_type": "markdown",
   "metadata": {
    "id": "mzeYlP2yAs5h"
   },
   "source": [
    "## Uploading the extracted adapter to Hugging Face Hub"
   ]
  },
  {
   "cell_type": "markdown",
   "metadata": {},
   "source": [
    "First, let's replace the `base_model_name_or_path` value of the adapter config with the base model id instead of the local path"
   ]
  },
  {
   "cell_type": "code",
   "execution_count": 22,
   "metadata": {},
   "outputs": [
    {
     "name": "stdout",
     "output_type": "stream",
     "text": [
      "Configuration updated successfully.\n"
     ]
    }
   ],
   "source": [
    "import os\n",
    "import json\n",
    "\n",
    "adapter_config_path = os.path.join(LORA_OUT_DIR, 'adapter_config.json')\n",
    "\n",
    "# Load the configuration from the file\n",
    "with open(adapter_config_path, 'r') as file:\n",
    "    config = json.load(file)\n",
    "\n",
    "# Update the base_model_name_or_path in the configuration\n",
    "config['base_model_name_or_path'] = base_model_id\n",
    "\n",
    "# Save the updated configuration back to the file\n",
    "with open(adapter_config_path, 'w') as file:\n",
    "    json.dump(config, file, indent=2)\n",
    "\n",
    "print(\"Configuration updated successfully.\")"
   ]
  },
  {
   "cell_type": "markdown",
   "metadata": {},
   "source": [
    "Now let's create a readme"
   ]
  },
  {
   "cell_type": "code",
   "execution_count": 23,
   "metadata": {},
   "outputs": [
    {
     "name": "stdout",
     "output_type": "stream",
     "text": [
      "Markdown file successfully created.\n"
     ]
    }
   ],
   "source": [
    "import yaml\n",
    "\n",
    "# Define your metadata as a Python dictionary\n",
    "metadata = {\n",
    "    'library_name': 'peft',\n",
    "    'base_model': base_model_id\n",
    "}\n",
    "\n",
    "# Convert the dictionary to YAML format\n",
    "yaml_frontmatter = yaml.dump(metadata, sort_keys=False)\n",
    "\n",
    "# Define your Markdown content\n",
    "markdown_content = f\"\"\"\n",
    "# Low-rank decomposition of [{target_model_id}](https://huggingface.co/{target_model_id}) using [{base_model_id}](https://huggingface.co/{base_model_id}) as base\n",
    "\n",
    "Created using [LoRD](https://github.com/thomasgauthier/LoRD)\n",
    "\"\"\"\n",
    "\n",
    "# Combine the YAML frontmatter and Markdown content\n",
    "full_content = f\"---\\n{yaml_frontmatter}---\\n{markdown_content}\"\n",
    "\n",
    "adapter_readme_path = os.path.join(LORA_OUT_DIR, 'README.md')\n",
    "\n",
    "# Write to a Markdown file\n",
    "with open(adapter_readme_path, 'w') as md_file:\n",
    "    md_file.write(full_content)\n",
    "\n",
    "print(\"Markdown file successfully created.\")"
   ]
  },
  {
   "cell_type": "code",
   "execution_count": 24,
   "metadata": {
    "id": "yNThVT9BAs5h"
   },
   "outputs": [
    {
     "data": {
      "application/vnd.jupyter.widget-view+json": {
       "model_id": "d25bec160a0a41adb59b618b2766085a",
       "version_major": 2,
       "version_minor": 0
      },
      "text/plain": [
       "VBox(children=(HTML(value='<center> <img\\nsrc=https://huggingface.co/front/assets/huggingface_logo-noborder.sv…"
      ]
     },
     "metadata": {},
     "output_type": "display_data"
    }
   ],
   "source": [
    "from huggingface_hub import notebook_login\n",
    "\n",
    "notebook_login()"
   ]
  },
  {
   "cell_type": "code",
   "execution_count": 26,
   "metadata": {
    "id": "JZRipAahAs5h"
   },
   "outputs": [
    {
     "name": "stdin",
     "output_type": "stream",
     "text": [
      "Enter your desired model name:  OpenSnark-LoRD\n"
     ]
    },
    {
     "name": "stdout",
     "output_type": "stream",
     "text": [
      "Repository 'thomasgauthier/OpenSnark-LoRD' created or already exists on the Hugging Face Hub.\n"
     ]
    },
    {
     "data": {
      "application/vnd.jupyter.widget-view+json": {
       "model_id": "75ae10cedf1e4ffdbe5c2e45c729ac89",
       "version_major": 2,
       "version_minor": 0
      },
      "text/plain": [
       "adapter_model.safetensors:   0%|          | 0.00/340M [00:00<?, ?B/s]"
      ]
     },
     "metadata": {},
     "output_type": "display_data"
    },
    {
     "name": "stdout",
     "output_type": "stream",
     "text": [
      "All files in './lora' have been uploaded to https://huggingface.co/thomasgauthier/OpenSnark-LoRD successfully.\n"
     ]
    }
   ],
   "source": [
    "from huggingface_hub import HfApi\n",
    "\n",
    "# Initialize the API\n",
    "hf_api = HfApi()\n",
    "\n",
    "# Get the current user's username\n",
    "user_info = hf_api.whoami()\n",
    "username = user_info['name']\n",
    "\n",
    "# Define your model name and the local directory path\n",
    "model_name = input(\"Enter your desired model name: \")\n",
    "\n",
    "repo_id = f\"{username}/{model_name}\"\n",
    "\n",
    "# Create the repository on the Hugging Face Hub, setting it to private\n",
    "try:\n",
    "    # This will return the URL of the newly created repo if successful\n",
    "    repo_url = hf_api.create_repo(repo_id=repo_id, private=True, exist_ok=True)\n",
    "    print(f\"Repository '{repo_id}' created or already exists on the Hugging Face Hub.\")\n",
    "except Exception as e:\n",
    "    print(f\"Error creating repository: {e}\")\n",
    "    exit(1)  # Exit if there's an issue creating the repo\n",
    "\n",
    "# Upload all the content from the local folder to your remote repository\n",
    "try:\n",
    "    hf_api.upload_folder(folder_path=LORA_OUT_DIR,\n",
    "                         repo_id=repo_id,\n",
    "                         repo_type=\"model\")\n",
    "    print(f\"All files in '{LORA_OUT_DIR}' have been uploaded to {repo_url.url} successfully.\")\n",
    "except Exception as e:\n",
    "    print(f\"Error uploading files to the repository: {e}\")"
   ]
  }
 ],
 "metadata": {
  "accelerator": "GPU",
  "colab": {
   "gpuType": "T4",
   "provenance": []
  },
  "kernelspec": {
   "display_name": "Python 3 (ipykernel)",
   "language": "python",
   "name": "python3"
  },
  "language_info": {
   "codemirror_mode": {
    "name": "ipython",
    "version": 3
   },
   "file_extension": ".py",
   "mimetype": "text/x-python",
   "name": "python",
   "nbconvert_exporter": "python",
   "pygments_lexer": "ipython3",
   "version": "3.10.12"
  },
  "widgets": {
   "application/vnd.jupyter.widget-state+json": {
    "060f4c34ef4c45458eb1536910696d59": {
     "model_module": "@jupyter-widgets/controls",
     "model_module_version": "1.5.0",
     "model_name": "HTMLModel",
     "state": {
      "_dom_classes": [],
      "_model_module": "@jupyter-widgets/controls",
      "_model_module_version": "1.5.0",
      "_model_name": "HTMLModel",
      "_view_count": null,
      "_view_module": "@jupyter-widgets/controls",
      "_view_module_version": "1.5.0",
      "_view_name": "HTMLView",
      "description": "",
      "description_tooltip": null,
      "layout": "IPY_MODEL_18effa096dfa487baee1712f536bd19c",
      "placeholder": "​",
      "style": "IPY_MODEL_bde9cb7e662043fe9ea2f5b5a9f78fca",
      "value": "Loading checkpoint shards: 100%"
     }
    },
    "07a430ad4ab142da9425ab0523e36ea7": {
     "model_module": "@jupyter-widgets/base",
     "model_module_version": "1.2.0",
     "model_name": "LayoutModel",
     "state": {
      "_model_module": "@jupyter-widgets/base",
      "_model_module_version": "1.2.0",
      "_model_name": "LayoutModel",
      "_view_count": null,
      "_view_module": "@jupyter-widgets/base",
      "_view_module_version": "1.2.0",
      "_view_name": "LayoutView",
      "align_content": null,
      "align_items": null,
      "align_self": null,
      "border": null,
      "bottom": null,
      "display": null,
      "flex": null,
      "flex_flow": null,
      "grid_area": null,
      "grid_auto_columns": null,
      "grid_auto_flow": null,
      "grid_auto_rows": null,
      "grid_column": null,
      "grid_gap": null,
      "grid_row": null,
      "grid_template_areas": null,
      "grid_template_columns": null,
      "grid_template_rows": null,
      "height": null,
      "justify_content": null,
      "justify_items": null,
      "left": null,
      "margin": null,
      "max_height": null,
      "max_width": null,
      "min_height": null,
      "min_width": null,
      "object_fit": null,
      "object_position": null,
      "order": null,
      "overflow": null,
      "overflow_x": null,
      "overflow_y": null,
      "padding": null,
      "right": null,
      "top": null,
      "visibility": null,
      "width": null
     }
    },
    "116be25a738041a68fd989f82da47b23": {
     "model_module": "@jupyter-widgets/base",
     "model_module_version": "1.2.0",
     "model_name": "LayoutModel",
     "state": {
      "_model_module": "@jupyter-widgets/base",
      "_model_module_version": "1.2.0",
      "_model_name": "LayoutModel",
      "_view_count": null,
      "_view_module": "@jupyter-widgets/base",
      "_view_module_version": "1.2.0",
      "_view_name": "LayoutView",
      "align_content": null,
      "align_items": null,
      "align_self": null,
      "border": null,
      "bottom": null,
      "display": null,
      "flex": null,
      "flex_flow": null,
      "grid_area": null,
      "grid_auto_columns": null,
      "grid_auto_flow": null,
      "grid_auto_rows": null,
      "grid_column": null,
      "grid_gap": null,
      "grid_row": null,
      "grid_template_areas": null,
      "grid_template_columns": null,
      "grid_template_rows": null,
      "height": null,
      "justify_content": null,
      "justify_items": null,
      "left": null,
      "margin": null,
      "max_height": null,
      "max_width": null,
      "min_height": null,
      "min_width": null,
      "object_fit": null,
      "object_position": null,
      "order": null,
      "overflow": null,
      "overflow_x": null,
      "overflow_y": null,
      "padding": null,
      "right": null,
      "top": null,
      "visibility": null,
      "width": null
     }
    },
    "18effa096dfa487baee1712f536bd19c": {
     "model_module": "@jupyter-widgets/base",
     "model_module_version": "1.2.0",
     "model_name": "LayoutModel",
     "state": {
      "_model_module": "@jupyter-widgets/base",
      "_model_module_version": "1.2.0",
      "_model_name": "LayoutModel",
      "_view_count": null,
      "_view_module": "@jupyter-widgets/base",
      "_view_module_version": "1.2.0",
      "_view_name": "LayoutView",
      "align_content": null,
      "align_items": null,
      "align_self": null,
      "border": null,
      "bottom": null,
      "display": null,
      "flex": null,
      "flex_flow": null,
      "grid_area": null,
      "grid_auto_columns": null,
      "grid_auto_flow": null,
      "grid_auto_rows": null,
      "grid_column": null,
      "grid_gap": null,
      "grid_row": null,
      "grid_template_areas": null,
      "grid_template_columns": null,
      "grid_template_rows": null,
      "height": null,
      "justify_content": null,
      "justify_items": null,
      "left": null,
      "margin": null,
      "max_height": null,
      "max_width": null,
      "min_height": null,
      "min_width": null,
      "object_fit": null,
      "object_position": null,
      "order": null,
      "overflow": null,
      "overflow_x": null,
      "overflow_y": null,
      "padding": null,
      "right": null,
      "top": null,
      "visibility": null,
      "width": null
     }
    },
    "1d4f01c6e6f043b7b0c463b340658618": {
     "model_module": "@jupyter-widgets/base",
     "model_module_version": "1.2.0",
     "model_name": "LayoutModel",
     "state": {
      "_model_module": "@jupyter-widgets/base",
      "_model_module_version": "1.2.0",
      "_model_name": "LayoutModel",
      "_view_count": null,
      "_view_module": "@jupyter-widgets/base",
      "_view_module_version": "1.2.0",
      "_view_name": "LayoutView",
      "align_content": null,
      "align_items": null,
      "align_self": null,
      "border": null,
      "bottom": null,
      "display": null,
      "flex": null,
      "flex_flow": null,
      "grid_area": null,
      "grid_auto_columns": null,
      "grid_auto_flow": null,
      "grid_auto_rows": null,
      "grid_column": null,
      "grid_gap": null,
      "grid_row": null,
      "grid_template_areas": null,
      "grid_template_columns": null,
      "grid_template_rows": null,
      "height": null,
      "justify_content": null,
      "justify_items": null,
      "left": null,
      "margin": null,
      "max_height": null,
      "max_width": null,
      "min_height": null,
      "min_width": null,
      "object_fit": null,
      "object_position": null,
      "order": null,
      "overflow": null,
      "overflow_x": null,
      "overflow_y": null,
      "padding": null,
      "right": null,
      "top": null,
      "visibility": null,
      "width": null
     }
    },
    "2051d6f270dd41ea9d7f23b1cb437afa": {
     "model_module": "@jupyter-widgets/controls",
     "model_module_version": "1.5.0",
     "model_name": "HBoxModel",
     "state": {
      "_dom_classes": [],
      "_model_module": "@jupyter-widgets/controls",
      "_model_module_version": "1.5.0",
      "_model_name": "HBoxModel",
      "_view_count": null,
      "_view_module": "@jupyter-widgets/controls",
      "_view_module_version": "1.5.0",
      "_view_name": "HBoxView",
      "box_style": "",
      "children": [
       "IPY_MODEL_060f4c34ef4c45458eb1536910696d59",
       "IPY_MODEL_c4bf254c0e8d48f0babf29a2902a2644",
       "IPY_MODEL_fc85a454876a4381bcc818196205380e"
      ],
      "layout": "IPY_MODEL_74a9e10c49e7483786e3e57e0187b076"
     }
    },
    "2058a162225941cdaede8dca65c0aa5e": {
     "model_module": "@jupyter-widgets/base",
     "model_module_version": "1.2.0",
     "model_name": "LayoutModel",
     "state": {
      "_model_module": "@jupyter-widgets/base",
      "_model_module_version": "1.2.0",
      "_model_name": "LayoutModel",
      "_view_count": null,
      "_view_module": "@jupyter-widgets/base",
      "_view_module_version": "1.2.0",
      "_view_name": "LayoutView",
      "align_content": null,
      "align_items": null,
      "align_self": null,
      "border": null,
      "bottom": null,
      "display": null,
      "flex": null,
      "flex_flow": null,
      "grid_area": null,
      "grid_auto_columns": null,
      "grid_auto_flow": null,
      "grid_auto_rows": null,
      "grid_column": null,
      "grid_gap": null,
      "grid_row": null,
      "grid_template_areas": null,
      "grid_template_columns": null,
      "grid_template_rows": null,
      "height": null,
      "justify_content": null,
      "justify_items": null,
      "left": null,
      "margin": null,
      "max_height": null,
      "max_width": null,
      "min_height": null,
      "min_width": null,
      "object_fit": null,
      "object_position": null,
      "order": null,
      "overflow": null,
      "overflow_x": null,
      "overflow_y": null,
      "padding": null,
      "right": null,
      "top": null,
      "visibility": null,
      "width": null
     }
    },
    "22d83bb649854b16b1bca2db35d84f80": {
     "model_module": "@jupyter-widgets/controls",
     "model_module_version": "1.5.0",
     "model_name": "ProgressStyleModel",
     "state": {
      "_model_module": "@jupyter-widgets/controls",
      "_model_module_version": "1.5.0",
      "_model_name": "ProgressStyleModel",
      "_view_count": null,
      "_view_module": "@jupyter-widgets/base",
      "_view_module_version": "1.2.0",
      "_view_name": "StyleView",
      "bar_color": null,
      "description_width": ""
     }
    },
    "267ea1281f874111b9b6f07bf8882474": {
     "model_module": "@jupyter-widgets/base",
     "model_module_version": "1.2.0",
     "model_name": "LayoutModel",
     "state": {
      "_model_module": "@jupyter-widgets/base",
      "_model_module_version": "1.2.0",
      "_model_name": "LayoutModel",
      "_view_count": null,
      "_view_module": "@jupyter-widgets/base",
      "_view_module_version": "1.2.0",
      "_view_name": "LayoutView",
      "align_content": null,
      "align_items": null,
      "align_self": null,
      "border": null,
      "bottom": null,
      "display": null,
      "flex": null,
      "flex_flow": null,
      "grid_area": null,
      "grid_auto_columns": null,
      "grid_auto_flow": null,
      "grid_auto_rows": null,
      "grid_column": null,
      "grid_gap": null,
      "grid_row": null,
      "grid_template_areas": null,
      "grid_template_columns": null,
      "grid_template_rows": null,
      "height": null,
      "justify_content": null,
      "justify_items": null,
      "left": null,
      "margin": null,
      "max_height": null,
      "max_width": null,
      "min_height": null,
      "min_width": null,
      "object_fit": null,
      "object_position": null,
      "order": null,
      "overflow": null,
      "overflow_x": null,
      "overflow_y": null,
      "padding": null,
      "right": null,
      "top": null,
      "visibility": null,
      "width": null
     }
    },
    "29f408f041bf4a1688be324c7274aee2": {
     "model_module": "@jupyter-widgets/controls",
     "model_module_version": "1.5.0",
     "model_name": "HTMLModel",
     "state": {
      "_dom_classes": [],
      "_model_module": "@jupyter-widgets/controls",
      "_model_module_version": "1.5.0",
      "_model_name": "HTMLModel",
      "_view_count": null,
      "_view_module": "@jupyter-widgets/controls",
      "_view_module_version": "1.5.0",
      "_view_name": "HTMLView",
      "description": "",
      "description_tooltip": null,
      "layout": "IPY_MODEL_4f2a54419e504815b928f7df349c6047",
      "placeholder": "​",
      "style": "IPY_MODEL_c0b4d830aa124c3cb60c4b6835a1857e",
      "value": "model-00001-of-00003.safetensors: 100%"
     }
    },
    "2ea41c728346493293ad1b67dbea8155": {
     "model_module": "@jupyter-widgets/controls",
     "model_module_version": "1.5.0",
     "model_name": "HTMLModel",
     "state": {
      "_dom_classes": [],
      "_model_module": "@jupyter-widgets/controls",
      "_model_module_version": "1.5.0",
      "_model_name": "HTMLModel",
      "_view_count": null,
      "_view_module": "@jupyter-widgets/controls",
      "_view_module_version": "1.5.0",
      "_view_name": "HTMLView",
      "description": "",
      "description_tooltip": null,
      "layout": "IPY_MODEL_917e8d0831ea44e09888c755f2f7c3a8",
      "placeholder": "​",
      "style": "IPY_MODEL_a24c6e2d36764c70b6b8906abc560cb4",
      "value": " 68/225 [49:13&lt;1:37:09, 37.13s/it]"
     }
    },
    "3040aae2d70e40e1bc5a6d143104bb1e": {
     "model_module": "@jupyter-widgets/controls",
     "model_module_version": "1.5.0",
     "model_name": "HTMLModel",
     "state": {
      "_dom_classes": [],
      "_model_module": "@jupyter-widgets/controls",
      "_model_module_version": "1.5.0",
      "_model_name": "HTMLModel",
      "_view_count": null,
      "_view_module": "@jupyter-widgets/controls",
      "_view_module_version": "1.5.0",
      "_view_name": "HTMLView",
      "description": "",
      "description_tooltip": null,
      "layout": "IPY_MODEL_704b4e042af345d1a4819f1dd5d42855",
      "placeholder": "​",
      "style": "IPY_MODEL_51de56c4d70d4e54961b54ac40a9bf13",
      "value": "model-00002-of-00003.safetensors: 100%"
     }
    },
    "323e88e5af4e441593a5166ae908acc0": {
     "model_module": "@jupyter-widgets/controls",
     "model_module_version": "1.5.0",
     "model_name": "HBoxModel",
     "state": {
      "_dom_classes": [],
      "_model_module": "@jupyter-widgets/controls",
      "_model_module_version": "1.5.0",
      "_model_name": "HBoxModel",
      "_view_count": null,
      "_view_module": "@jupyter-widgets/controls",
      "_view_module_version": "1.5.0",
      "_view_name": "HBoxView",
      "box_style": "",
      "children": [
       "IPY_MODEL_29f408f041bf4a1688be324c7274aee2",
       "IPY_MODEL_9f822142ee284600be961b8b3f46fcbd",
       "IPY_MODEL_9b3b18d6d3174a0a99800b812470e849"
      ],
      "layout": "IPY_MODEL_34d82531b1a445449531b89d1c97aece"
     }
    },
    "33d90e5a26104966bc971266825bb96b": {
     "model_module": "@jupyter-widgets/base",
     "model_module_version": "1.2.0",
     "model_name": "LayoutModel",
     "state": {
      "_model_module": "@jupyter-widgets/base",
      "_model_module_version": "1.2.0",
      "_model_name": "LayoutModel",
      "_view_count": null,
      "_view_module": "@jupyter-widgets/base",
      "_view_module_version": "1.2.0",
      "_view_name": "LayoutView",
      "align_content": null,
      "align_items": null,
      "align_self": null,
      "border": null,
      "bottom": null,
      "display": null,
      "flex": null,
      "flex_flow": null,
      "grid_area": null,
      "grid_auto_columns": null,
      "grid_auto_flow": null,
      "grid_auto_rows": null,
      "grid_column": null,
      "grid_gap": null,
      "grid_row": null,
      "grid_template_areas": null,
      "grid_template_columns": null,
      "grid_template_rows": null,
      "height": null,
      "justify_content": null,
      "justify_items": null,
      "left": null,
      "margin": null,
      "max_height": null,
      "max_width": null,
      "min_height": null,
      "min_width": null,
      "object_fit": null,
      "object_position": null,
      "order": null,
      "overflow": null,
      "overflow_x": null,
      "overflow_y": null,
      "padding": null,
      "right": null,
      "top": null,
      "visibility": null,
      "width": null
     }
    },
    "34d82531b1a445449531b89d1c97aece": {
     "model_module": "@jupyter-widgets/base",
     "model_module_version": "1.2.0",
     "model_name": "LayoutModel",
     "state": {
      "_model_module": "@jupyter-widgets/base",
      "_model_module_version": "1.2.0",
      "_model_name": "LayoutModel",
      "_view_count": null,
      "_view_module": "@jupyter-widgets/base",
      "_view_module_version": "1.2.0",
      "_view_name": "LayoutView",
      "align_content": null,
      "align_items": null,
      "align_self": null,
      "border": null,
      "bottom": null,
      "display": null,
      "flex": null,
      "flex_flow": null,
      "grid_area": null,
      "grid_auto_columns": null,
      "grid_auto_flow": null,
      "grid_auto_rows": null,
      "grid_column": null,
      "grid_gap": null,
      "grid_row": null,
      "grid_template_areas": null,
      "grid_template_columns": null,
      "grid_template_rows": null,
      "height": null,
      "justify_content": null,
      "justify_items": null,
      "left": null,
      "margin": null,
      "max_height": null,
      "max_width": null,
      "min_height": null,
      "min_width": null,
      "object_fit": null,
      "object_position": null,
      "order": null,
      "overflow": null,
      "overflow_x": null,
      "overflow_y": null,
      "padding": null,
      "right": null,
      "top": null,
      "visibility": null,
      "width": null
     }
    },
    "3657f678d93241fa8d64e72ae70eb579": {
     "model_module": "@jupyter-widgets/controls",
     "model_module_version": "1.5.0",
     "model_name": "DescriptionStyleModel",
     "state": {
      "_model_module": "@jupyter-widgets/controls",
      "_model_module_version": "1.5.0",
      "_model_name": "DescriptionStyleModel",
      "_view_count": null,
      "_view_module": "@jupyter-widgets/base",
      "_view_module_version": "1.2.0",
      "_view_name": "StyleView",
      "description_width": ""
     }
    },
    "37625a9d150040f29af07e4b644a3775": {
     "model_module": "@jupyter-widgets/controls",
     "model_module_version": "1.5.0",
     "model_name": "DescriptionStyleModel",
     "state": {
      "_model_module": "@jupyter-widgets/controls",
      "_model_module_version": "1.5.0",
      "_model_name": "DescriptionStyleModel",
      "_view_count": null,
      "_view_module": "@jupyter-widgets/base",
      "_view_module_version": "1.2.0",
      "_view_name": "StyleView",
      "description_width": ""
     }
    },
    "38fbb8f0a9f745e69f1fb53816d03059": {
     "model_module": "@jupyter-widgets/base",
     "model_module_version": "1.2.0",
     "model_name": "LayoutModel",
     "state": {
      "_model_module": "@jupyter-widgets/base",
      "_model_module_version": "1.2.0",
      "_model_name": "LayoutModel",
      "_view_count": null,
      "_view_module": "@jupyter-widgets/base",
      "_view_module_version": "1.2.0",
      "_view_name": "LayoutView",
      "align_content": null,
      "align_items": null,
      "align_self": null,
      "border": null,
      "bottom": null,
      "display": null,
      "flex": null,
      "flex_flow": null,
      "grid_area": null,
      "grid_auto_columns": null,
      "grid_auto_flow": null,
      "grid_auto_rows": null,
      "grid_column": null,
      "grid_gap": null,
      "grid_row": null,
      "grid_template_areas": null,
      "grid_template_columns": null,
      "grid_template_rows": null,
      "height": null,
      "justify_content": null,
      "justify_items": null,
      "left": null,
      "margin": null,
      "max_height": null,
      "max_width": null,
      "min_height": null,
      "min_width": null,
      "object_fit": null,
      "object_position": null,
      "order": null,
      "overflow": null,
      "overflow_x": null,
      "overflow_y": null,
      "padding": null,
      "right": null,
      "top": null,
      "visibility": null,
      "width": null
     }
    },
    "3a9381f7a48644a1a3243592832deeaf": {
     "model_module": "@jupyter-widgets/base",
     "model_module_version": "1.2.0",
     "model_name": "LayoutModel",
     "state": {
      "_model_module": "@jupyter-widgets/base",
      "_model_module_version": "1.2.0",
      "_model_name": "LayoutModel",
      "_view_count": null,
      "_view_module": "@jupyter-widgets/base",
      "_view_module_version": "1.2.0",
      "_view_name": "LayoutView",
      "align_content": null,
      "align_items": null,
      "align_self": null,
      "border": null,
      "bottom": null,
      "display": null,
      "flex": null,
      "flex_flow": null,
      "grid_area": null,
      "grid_auto_columns": null,
      "grid_auto_flow": null,
      "grid_auto_rows": null,
      "grid_column": null,
      "grid_gap": null,
      "grid_row": null,
      "grid_template_areas": null,
      "grid_template_columns": null,
      "grid_template_rows": null,
      "height": null,
      "justify_content": null,
      "justify_items": null,
      "left": null,
      "margin": null,
      "max_height": null,
      "max_width": null,
      "min_height": null,
      "min_width": null,
      "object_fit": null,
      "object_position": null,
      "order": null,
      "overflow": null,
      "overflow_x": null,
      "overflow_y": null,
      "padding": null,
      "right": null,
      "top": null,
      "visibility": null,
      "width": null
     }
    },
    "3c7954e2d82a45e28ed46776c0d4fd68": {
     "model_module": "@jupyter-widgets/controls",
     "model_module_version": "1.5.0",
     "model_name": "HTMLModel",
     "state": {
      "_dom_classes": [],
      "_model_module": "@jupyter-widgets/controls",
      "_model_module_version": "1.5.0",
      "_model_name": "HTMLModel",
      "_view_count": null,
      "_view_module": "@jupyter-widgets/controls",
      "_view_module_version": "1.5.0",
      "_view_name": "HTMLView",
      "description": "",
      "description_tooltip": null,
      "layout": "IPY_MODEL_d23b4dfb50764b34be669e0460d44915",
      "placeholder": "​",
      "style": "IPY_MODEL_d88f8aaf5ef34afb8ab2555d78047261",
      "value": " 13/13 [00:00&lt;00:00, 702.05it/s]"
     }
    },
    "4257d6533a7b46d1a894f6fe69e53ec7": {
     "model_module": "@jupyter-widgets/controls",
     "model_module_version": "1.5.0",
     "model_name": "ProgressStyleModel",
     "state": {
      "_model_module": "@jupyter-widgets/controls",
      "_model_module_version": "1.5.0",
      "_model_name": "ProgressStyleModel",
      "_view_count": null,
      "_view_module": "@jupyter-widgets/base",
      "_view_module_version": "1.2.0",
      "_view_name": "StyleView",
      "bar_color": null,
      "description_width": ""
     }
    },
    "42ca2cfca15d4aadb507043825a75984": {
     "model_module": "@jupyter-widgets/controls",
     "model_module_version": "1.5.0",
     "model_name": "DescriptionStyleModel",
     "state": {
      "_model_module": "@jupyter-widgets/controls",
      "_model_module_version": "1.5.0",
      "_model_name": "DescriptionStyleModel",
      "_view_count": null,
      "_view_module": "@jupyter-widgets/base",
      "_view_module_version": "1.2.0",
      "_view_name": "StyleView",
      "description_width": ""
     }
    },
    "46b572ab49fa43d2a323f7348a4586b1": {
     "model_module": "@jupyter-widgets/controls",
     "model_module_version": "1.5.0",
     "model_name": "ProgressStyleModel",
     "state": {
      "_model_module": "@jupyter-widgets/controls",
      "_model_module_version": "1.5.0",
      "_model_name": "ProgressStyleModel",
      "_view_count": null,
      "_view_module": "@jupyter-widgets/base",
      "_view_module_version": "1.2.0",
      "_view_name": "StyleView",
      "bar_color": null,
      "description_width": ""
     }
    },
    "47c6d695bb1b4cc89a241ab658b9b6d0": {
     "model_module": "@jupyter-widgets/controls",
     "model_module_version": "1.5.0",
     "model_name": "HBoxModel",
     "state": {
      "_dom_classes": [],
      "_model_module": "@jupyter-widgets/controls",
      "_model_module_version": "1.5.0",
      "_model_name": "HBoxModel",
      "_view_count": null,
      "_view_module": "@jupyter-widgets/controls",
      "_view_module_version": "1.5.0",
      "_view_name": "HBoxView",
      "box_style": "",
      "children": [
       "IPY_MODEL_8d089b0efcb642e99ce8e610167326c4",
       "IPY_MODEL_abbd5e15b7964a998b2e8abd4b334615",
       "IPY_MODEL_2ea41c728346493293ad1b67dbea8155"
      ],
      "layout": "IPY_MODEL_74b8d949b27d4b118b6a964142ff981f"
     }
    },
    "4f2a54419e504815b928f7df349c6047": {
     "model_module": "@jupyter-widgets/base",
     "model_module_version": "1.2.0",
     "model_name": "LayoutModel",
     "state": {
      "_model_module": "@jupyter-widgets/base",
      "_model_module_version": "1.2.0",
      "_model_name": "LayoutModel",
      "_view_count": null,
      "_view_module": "@jupyter-widgets/base",
      "_view_module_version": "1.2.0",
      "_view_name": "LayoutView",
      "align_content": null,
      "align_items": null,
      "align_self": null,
      "border": null,
      "bottom": null,
      "display": null,
      "flex": null,
      "flex_flow": null,
      "grid_area": null,
      "grid_auto_columns": null,
      "grid_auto_flow": null,
      "grid_auto_rows": null,
      "grid_column": null,
      "grid_gap": null,
      "grid_row": null,
      "grid_template_areas": null,
      "grid_template_columns": null,
      "grid_template_rows": null,
      "height": null,
      "justify_content": null,
      "justify_items": null,
      "left": null,
      "margin": null,
      "max_height": null,
      "max_width": null,
      "min_height": null,
      "min_width": null,
      "object_fit": null,
      "object_position": null,
      "order": null,
      "overflow": null,
      "overflow_x": null,
      "overflow_y": null,
      "padding": null,
      "right": null,
      "top": null,
      "visibility": null,
      "width": null
     }
    },
    "4f8776e4a4ad40ecbd8694d8714f8e3d": {
     "model_module": "@jupyter-widgets/base",
     "model_module_version": "1.2.0",
     "model_name": "LayoutModel",
     "state": {
      "_model_module": "@jupyter-widgets/base",
      "_model_module_version": "1.2.0",
      "_model_name": "LayoutModel",
      "_view_count": null,
      "_view_module": "@jupyter-widgets/base",
      "_view_module_version": "1.2.0",
      "_view_name": "LayoutView",
      "align_content": null,
      "align_items": null,
      "align_self": null,
      "border": null,
      "bottom": null,
      "display": null,
      "flex": null,
      "flex_flow": null,
      "grid_area": null,
      "grid_auto_columns": null,
      "grid_auto_flow": null,
      "grid_auto_rows": null,
      "grid_column": null,
      "grid_gap": null,
      "grid_row": null,
      "grid_template_areas": null,
      "grid_template_columns": null,
      "grid_template_rows": null,
      "height": null,
      "justify_content": null,
      "justify_items": null,
      "left": null,
      "margin": null,
      "max_height": null,
      "max_width": null,
      "min_height": null,
      "min_width": null,
      "object_fit": null,
      "object_position": null,
      "order": null,
      "overflow": null,
      "overflow_x": null,
      "overflow_y": null,
      "padding": null,
      "right": null,
      "top": null,
      "visibility": null,
      "width": null
     }
    },
    "51de56c4d70d4e54961b54ac40a9bf13": {
     "model_module": "@jupyter-widgets/controls",
     "model_module_version": "1.5.0",
     "model_name": "DescriptionStyleModel",
     "state": {
      "_model_module": "@jupyter-widgets/controls",
      "_model_module_version": "1.5.0",
      "_model_name": "DescriptionStyleModel",
      "_view_count": null,
      "_view_module": "@jupyter-widgets/base",
      "_view_module_version": "1.2.0",
      "_view_name": "StyleView",
      "description_width": ""
     }
    },
    "52a53aa021944c3a975edfb8efcf5f29": {
     "model_module": "@jupyter-widgets/controls",
     "model_module_version": "1.5.0",
     "model_name": "DescriptionStyleModel",
     "state": {
      "_model_module": "@jupyter-widgets/controls",
      "_model_module_version": "1.5.0",
      "_model_name": "DescriptionStyleModel",
      "_view_count": null,
      "_view_module": "@jupyter-widgets/base",
      "_view_module_version": "1.2.0",
      "_view_name": "StyleView",
      "description_width": ""
     }
    },
    "561b658b3f604ba8b052791a1f6e0d18": {
     "model_module": "@jupyter-widgets/controls",
     "model_module_version": "1.5.0",
     "model_name": "HTMLModel",
     "state": {
      "_dom_classes": [],
      "_model_module": "@jupyter-widgets/controls",
      "_model_module_version": "1.5.0",
      "_model_name": "HTMLModel",
      "_view_count": null,
      "_view_module": "@jupyter-widgets/controls",
      "_view_module_version": "1.5.0",
      "_view_name": "HTMLView",
      "description": "",
      "description_tooltip": null,
      "layout": "IPY_MODEL_267ea1281f874111b9b6f07bf8882474",
      "placeholder": "​",
      "style": "IPY_MODEL_8c648f81d77644eb84db9f67ccd76988",
      "value": " 5.00G/5.00G [02:25&lt;00:00, 39.5MB/s]"
     }
    },
    "5861645c6fbf404e9f68febcdea3472a": {
     "model_module": "@jupyter-widgets/controls",
     "model_module_version": "1.5.0",
     "model_name": "HTMLModel",
     "state": {
      "_dom_classes": [],
      "_model_module": "@jupyter-widgets/controls",
      "_model_module_version": "1.5.0",
      "_model_name": "HTMLModel",
      "_view_count": null,
      "_view_module": "@jupyter-widgets/controls",
      "_view_module_version": "1.5.0",
      "_view_name": "HTMLView",
      "description": "",
      "description_tooltip": null,
      "layout": "IPY_MODEL_91c5a01d7d4847269a80d5aa819f5e78",
      "placeholder": "​",
      "style": "IPY_MODEL_3657f678d93241fa8d64e72ae70eb579",
      "value": "model-00003-of-00003.safetensors: 100%"
     }
    },
    "58efeba89abc40c9b0812fc8e20b4368": {
     "model_module": "@jupyter-widgets/controls",
     "model_module_version": "1.5.0",
     "model_name": "HBoxModel",
     "state": {
      "_dom_classes": [],
      "_model_module": "@jupyter-widgets/controls",
      "_model_module_version": "1.5.0",
      "_model_name": "HBoxModel",
      "_view_count": null,
      "_view_module": "@jupyter-widgets/controls",
      "_view_module_version": "1.5.0",
      "_view_name": "HBoxView",
      "box_style": "",
      "children": [
       "IPY_MODEL_5861645c6fbf404e9f68febcdea3472a",
       "IPY_MODEL_a4ed034b717243998d8f8890b76b2610",
       "IPY_MODEL_c7af56ee8fbb4844884f4e25fde48665"
      ],
      "layout": "IPY_MODEL_f4b7a049ca65449d93e832fce541f450"
     }
    },
    "61e09af067fa47fd98442409c92e3f5a": {
     "model_module": "@jupyter-widgets/base",
     "model_module_version": "1.2.0",
     "model_name": "LayoutModel",
     "state": {
      "_model_module": "@jupyter-widgets/base",
      "_model_module_version": "1.2.0",
      "_model_name": "LayoutModel",
      "_view_count": null,
      "_view_module": "@jupyter-widgets/base",
      "_view_module_version": "1.2.0",
      "_view_name": "LayoutView",
      "align_content": null,
      "align_items": null,
      "align_self": null,
      "border": null,
      "bottom": null,
      "display": null,
      "flex": null,
      "flex_flow": null,
      "grid_area": null,
      "grid_auto_columns": null,
      "grid_auto_flow": null,
      "grid_auto_rows": null,
      "grid_column": null,
      "grid_gap": null,
      "grid_row": null,
      "grid_template_areas": null,
      "grid_template_columns": null,
      "grid_template_rows": null,
      "height": null,
      "justify_content": null,
      "justify_items": null,
      "left": null,
      "margin": null,
      "max_height": null,
      "max_width": null,
      "min_height": null,
      "min_width": null,
      "object_fit": null,
      "object_position": null,
      "order": null,
      "overflow": null,
      "overflow_x": null,
      "overflow_y": null,
      "padding": null,
      "right": null,
      "top": null,
      "visibility": null,
      "width": null
     }
    },
    "647a2d1a3bdf4c7d8f149d91f93228d7": {
     "model_module": "@jupyter-widgets/controls",
     "model_module_version": "1.5.0",
     "model_name": "ProgressStyleModel",
     "state": {
      "_model_module": "@jupyter-widgets/controls",
      "_model_module_version": "1.5.0",
      "_model_name": "ProgressStyleModel",
      "_view_count": null,
      "_view_module": "@jupyter-widgets/base",
      "_view_module_version": "1.2.0",
      "_view_name": "StyleView",
      "bar_color": null,
      "description_width": ""
     }
    },
    "65eb9f2ca3d245c1a4ccd6f50309ce31": {
     "model_module": "@jupyter-widgets/base",
     "model_module_version": "1.2.0",
     "model_name": "LayoutModel",
     "state": {
      "_model_module": "@jupyter-widgets/base",
      "_model_module_version": "1.2.0",
      "_model_name": "LayoutModel",
      "_view_count": null,
      "_view_module": "@jupyter-widgets/base",
      "_view_module_version": "1.2.0",
      "_view_name": "LayoutView",
      "align_content": null,
      "align_items": null,
      "align_self": null,
      "border": null,
      "bottom": null,
      "display": null,
      "flex": null,
      "flex_flow": null,
      "grid_area": null,
      "grid_auto_columns": null,
      "grid_auto_flow": null,
      "grid_auto_rows": null,
      "grid_column": null,
      "grid_gap": null,
      "grid_row": null,
      "grid_template_areas": null,
      "grid_template_columns": null,
      "grid_template_rows": null,
      "height": null,
      "justify_content": null,
      "justify_items": null,
      "left": null,
      "margin": null,
      "max_height": null,
      "max_width": null,
      "min_height": null,
      "min_width": null,
      "object_fit": null,
      "object_position": null,
      "order": null,
      "overflow": null,
      "overflow_x": null,
      "overflow_y": null,
      "padding": null,
      "right": null,
      "top": null,
      "visibility": null,
      "width": null
     }
    },
    "67c7d12c35ab4e538982c6114ba4a31b": {
     "model_module": "@jupyter-widgets/controls",
     "model_module_version": "1.5.0",
     "model_name": "FloatProgressModel",
     "state": {
      "_dom_classes": [],
      "_model_module": "@jupyter-widgets/controls",
      "_model_module_version": "1.5.0",
      "_model_name": "FloatProgressModel",
      "_view_count": null,
      "_view_module": "@jupyter-widgets/controls",
      "_view_module_version": "1.5.0",
      "_view_name": "ProgressView",
      "bar_style": "success",
      "description": "",
      "description_tooltip": null,
      "layout": "IPY_MODEL_aebf2bfacada48229283d0cf1a518e37",
      "max": 13,
      "min": 0,
      "orientation": "horizontal",
      "style": "IPY_MODEL_4257d6533a7b46d1a894f6fe69e53ec7",
      "value": 13
     }
    },
    "6f2a37174f4349019a0726a66d5eed00": {
     "model_module": "@jupyter-widgets/controls",
     "model_module_version": "1.5.0",
     "model_name": "FloatProgressModel",
     "state": {
      "_dom_classes": [],
      "_model_module": "@jupyter-widgets/controls",
      "_model_module_version": "1.5.0",
      "_model_name": "FloatProgressModel",
      "_view_count": null,
      "_view_module": "@jupyter-widgets/controls",
      "_view_module_version": "1.5.0",
      "_view_name": "ProgressView",
      "bar_style": "success",
      "description": "",
      "description_tooltip": null,
      "layout": "IPY_MODEL_9bcc7691497c4e75bf1755c097be216d",
      "max": 13,
      "min": 0,
      "orientation": "horizontal",
      "style": "IPY_MODEL_abdec3df255641eba60e556ea0a60f26",
      "value": 13
     }
    },
    "704b4e042af345d1a4819f1dd5d42855": {
     "model_module": "@jupyter-widgets/base",
     "model_module_version": "1.2.0",
     "model_name": "LayoutModel",
     "state": {
      "_model_module": "@jupyter-widgets/base",
      "_model_module_version": "1.2.0",
      "_model_name": "LayoutModel",
      "_view_count": null,
      "_view_module": "@jupyter-widgets/base",
      "_view_module_version": "1.2.0",
      "_view_name": "LayoutView",
      "align_content": null,
      "align_items": null,
      "align_self": null,
      "border": null,
      "bottom": null,
      "display": null,
      "flex": null,
      "flex_flow": null,
      "grid_area": null,
      "grid_auto_columns": null,
      "grid_auto_flow": null,
      "grid_auto_rows": null,
      "grid_column": null,
      "grid_gap": null,
      "grid_row": null,
      "grid_template_areas": null,
      "grid_template_columns": null,
      "grid_template_rows": null,
      "height": null,
      "justify_content": null,
      "justify_items": null,
      "left": null,
      "margin": null,
      "max_height": null,
      "max_width": null,
      "min_height": null,
      "min_width": null,
      "object_fit": null,
      "object_position": null,
      "order": null,
      "overflow": null,
      "overflow_x": null,
      "overflow_y": null,
      "padding": null,
      "right": null,
      "top": null,
      "visibility": null,
      "width": null
     }
    },
    "71869938e6e142fc8b2474bac54538e5": {
     "model_module": "@jupyter-widgets/controls",
     "model_module_version": "1.5.0",
     "model_name": "ProgressStyleModel",
     "state": {
      "_model_module": "@jupyter-widgets/controls",
      "_model_module_version": "1.5.0",
      "_model_name": "ProgressStyleModel",
      "_view_count": null,
      "_view_module": "@jupyter-widgets/base",
      "_view_module_version": "1.2.0",
      "_view_name": "StyleView",
      "bar_color": null,
      "description_width": ""
     }
    },
    "74a9e10c49e7483786e3e57e0187b076": {
     "model_module": "@jupyter-widgets/base",
     "model_module_version": "1.2.0",
     "model_name": "LayoutModel",
     "state": {
      "_model_module": "@jupyter-widgets/base",
      "_model_module_version": "1.2.0",
      "_model_name": "LayoutModel",
      "_view_count": null,
      "_view_module": "@jupyter-widgets/base",
      "_view_module_version": "1.2.0",
      "_view_name": "LayoutView",
      "align_content": null,
      "align_items": null,
      "align_self": null,
      "border": null,
      "bottom": null,
      "display": null,
      "flex": null,
      "flex_flow": null,
      "grid_area": null,
      "grid_auto_columns": null,
      "grid_auto_flow": null,
      "grid_auto_rows": null,
      "grid_column": null,
      "grid_gap": null,
      "grid_row": null,
      "grid_template_areas": null,
      "grid_template_columns": null,
      "grid_template_rows": null,
      "height": null,
      "justify_content": null,
      "justify_items": null,
      "left": null,
      "margin": null,
      "max_height": null,
      "max_width": null,
      "min_height": null,
      "min_width": null,
      "object_fit": null,
      "object_position": null,
      "order": null,
      "overflow": null,
      "overflow_x": null,
      "overflow_y": null,
      "padding": null,
      "right": null,
      "top": null,
      "visibility": null,
      "width": null
     }
    },
    "74b8d949b27d4b118b6a964142ff981f": {
     "model_module": "@jupyter-widgets/base",
     "model_module_version": "1.2.0",
     "model_name": "LayoutModel",
     "state": {
      "_model_module": "@jupyter-widgets/base",
      "_model_module_version": "1.2.0",
      "_model_name": "LayoutModel",
      "_view_count": null,
      "_view_module": "@jupyter-widgets/base",
      "_view_module_version": "1.2.0",
      "_view_name": "LayoutView",
      "align_content": null,
      "align_items": null,
      "align_self": null,
      "border": null,
      "bottom": null,
      "display": null,
      "flex": null,
      "flex_flow": null,
      "grid_area": null,
      "grid_auto_columns": null,
      "grid_auto_flow": null,
      "grid_auto_rows": null,
      "grid_column": null,
      "grid_gap": null,
      "grid_row": null,
      "grid_template_areas": null,
      "grid_template_columns": null,
      "grid_template_rows": null,
      "height": null,
      "justify_content": null,
      "justify_items": null,
      "left": null,
      "margin": null,
      "max_height": null,
      "max_width": null,
      "min_height": null,
      "min_width": null,
      "object_fit": null,
      "object_position": null,
      "order": null,
      "overflow": null,
      "overflow_x": null,
      "overflow_y": null,
      "padding": null,
      "right": null,
      "top": null,
      "visibility": null,
      "width": null
     }
    },
    "8c648f81d77644eb84db9f67ccd76988": {
     "model_module": "@jupyter-widgets/controls",
     "model_module_version": "1.5.0",
     "model_name": "DescriptionStyleModel",
     "state": {
      "_model_module": "@jupyter-widgets/controls",
      "_model_module_version": "1.5.0",
      "_model_name": "DescriptionStyleModel",
      "_view_count": null,
      "_view_module": "@jupyter-widgets/base",
      "_view_module_version": "1.2.0",
      "_view_name": "StyleView",
      "description_width": ""
     }
    },
    "8d089b0efcb642e99ce8e610167326c4": {
     "model_module": "@jupyter-widgets/controls",
     "model_module_version": "1.5.0",
     "model_name": "HTMLModel",
     "state": {
      "_dom_classes": [],
      "_model_module": "@jupyter-widgets/controls",
      "_model_module_version": "1.5.0",
      "_model_name": "HTMLModel",
      "_view_count": null,
      "_view_module": "@jupyter-widgets/controls",
      "_view_module_version": "1.5.0",
      "_view_name": "HTMLView",
      "description": "",
      "description_tooltip": null,
      "layout": "IPY_MODEL_61e09af067fa47fd98442409c92e3f5a",
      "placeholder": "​",
      "style": "IPY_MODEL_37625a9d150040f29af07e4b644a3775",
      "value": " 30%"
     }
    },
    "8ef264013dba4227a24f114bc1d6acfc": {
     "model_module": "@jupyter-widgets/base",
     "model_module_version": "1.2.0",
     "model_name": "LayoutModel",
     "state": {
      "_model_module": "@jupyter-widgets/base",
      "_model_module_version": "1.2.0",
      "_model_name": "LayoutModel",
      "_view_count": null,
      "_view_module": "@jupyter-widgets/base",
      "_view_module_version": "1.2.0",
      "_view_name": "LayoutView",
      "align_content": null,
      "align_items": null,
      "align_self": null,
      "border": null,
      "bottom": null,
      "display": null,
      "flex": null,
      "flex_flow": null,
      "grid_area": null,
      "grid_auto_columns": null,
      "grid_auto_flow": null,
      "grid_auto_rows": null,
      "grid_column": null,
      "grid_gap": null,
      "grid_row": null,
      "grid_template_areas": null,
      "grid_template_columns": null,
      "grid_template_rows": null,
      "height": null,
      "justify_content": null,
      "justify_items": null,
      "left": null,
      "margin": null,
      "max_height": null,
      "max_width": null,
      "min_height": null,
      "min_width": null,
      "object_fit": null,
      "object_position": null,
      "order": null,
      "overflow": null,
      "overflow_x": null,
      "overflow_y": null,
      "padding": null,
      "right": null,
      "top": null,
      "visibility": null,
      "width": null
     }
    },
    "917e8d0831ea44e09888c755f2f7c3a8": {
     "model_module": "@jupyter-widgets/base",
     "model_module_version": "1.2.0",
     "model_name": "LayoutModel",
     "state": {
      "_model_module": "@jupyter-widgets/base",
      "_model_module_version": "1.2.0",
      "_model_name": "LayoutModel",
      "_view_count": null,
      "_view_module": "@jupyter-widgets/base",
      "_view_module_version": "1.2.0",
      "_view_name": "LayoutView",
      "align_content": null,
      "align_items": null,
      "align_self": null,
      "border": null,
      "bottom": null,
      "display": null,
      "flex": null,
      "flex_flow": null,
      "grid_area": null,
      "grid_auto_columns": null,
      "grid_auto_flow": null,
      "grid_auto_rows": null,
      "grid_column": null,
      "grid_gap": null,
      "grid_row": null,
      "grid_template_areas": null,
      "grid_template_columns": null,
      "grid_template_rows": null,
      "height": null,
      "justify_content": null,
      "justify_items": null,
      "left": null,
      "margin": null,
      "max_height": null,
      "max_width": null,
      "min_height": null,
      "min_width": null,
      "object_fit": null,
      "object_position": null,
      "order": null,
      "overflow": null,
      "overflow_x": null,
      "overflow_y": null,
      "padding": null,
      "right": null,
      "top": null,
      "visibility": null,
      "width": null
     }
    },
    "91c5a01d7d4847269a80d5aa819f5e78": {
     "model_module": "@jupyter-widgets/base",
     "model_module_version": "1.2.0",
     "model_name": "LayoutModel",
     "state": {
      "_model_module": "@jupyter-widgets/base",
      "_model_module_version": "1.2.0",
      "_model_name": "LayoutModel",
      "_view_count": null,
      "_view_module": "@jupyter-widgets/base",
      "_view_module_version": "1.2.0",
      "_view_name": "LayoutView",
      "align_content": null,
      "align_items": null,
      "align_self": null,
      "border": null,
      "bottom": null,
      "display": null,
      "flex": null,
      "flex_flow": null,
      "grid_area": null,
      "grid_auto_columns": null,
      "grid_auto_flow": null,
      "grid_auto_rows": null,
      "grid_column": null,
      "grid_gap": null,
      "grid_row": null,
      "grid_template_areas": null,
      "grid_template_columns": null,
      "grid_template_rows": null,
      "height": null,
      "justify_content": null,
      "justify_items": null,
      "left": null,
      "margin": null,
      "max_height": null,
      "max_width": null,
      "min_height": null,
      "min_width": null,
      "object_fit": null,
      "object_position": null,
      "order": null,
      "overflow": null,
      "overflow_x": null,
      "overflow_y": null,
      "padding": null,
      "right": null,
      "top": null,
      "visibility": null,
      "width": null
     }
    },
    "93e9d27a6aef4237b00e6b93ca11b4a5": {
     "model_module": "@jupyter-widgets/controls",
     "model_module_version": "1.5.0",
     "model_name": "HBoxModel",
     "state": {
      "_dom_classes": [],
      "_model_module": "@jupyter-widgets/controls",
      "_model_module_version": "1.5.0",
      "_model_name": "HBoxModel",
      "_view_count": null,
      "_view_module": "@jupyter-widgets/controls",
      "_view_module_version": "1.5.0",
      "_view_name": "HBoxView",
      "box_style": "",
      "children": [
       "IPY_MODEL_3040aae2d70e40e1bc5a6d143104bb1e",
       "IPY_MODEL_a427d02cd1f04613892e5aa986380149",
       "IPY_MODEL_561b658b3f604ba8b052791a1f6e0d18"
      ],
      "layout": "IPY_MODEL_a7265490b6b74861966a165b2119786f"
     }
    },
    "9b3b18d6d3174a0a99800b812470e849": {
     "model_module": "@jupyter-widgets/controls",
     "model_module_version": "1.5.0",
     "model_name": "HTMLModel",
     "state": {
      "_dom_classes": [],
      "_model_module": "@jupyter-widgets/controls",
      "_model_module_version": "1.5.0",
      "_model_name": "HTMLModel",
      "_view_count": null,
      "_view_module": "@jupyter-widgets/controls",
      "_view_module_version": "1.5.0",
      "_view_name": "HTMLView",
      "description": "",
      "description_tooltip": null,
      "layout": "IPY_MODEL_2058a162225941cdaede8dca65c0aa5e",
      "placeholder": "​",
      "style": "IPY_MODEL_42ca2cfca15d4aadb507043825a75984",
      "value": " 4.94G/4.94G [02:22&lt;00:00, 49.2MB/s]"
     }
    },
    "9bcc7691497c4e75bf1755c097be216d": {
     "model_module": "@jupyter-widgets/base",
     "model_module_version": "1.2.0",
     "model_name": "LayoutModel",
     "state": {
      "_model_module": "@jupyter-widgets/base",
      "_model_module_version": "1.2.0",
      "_model_name": "LayoutModel",
      "_view_count": null,
      "_view_module": "@jupyter-widgets/base",
      "_view_module_version": "1.2.0",
      "_view_name": "LayoutView",
      "align_content": null,
      "align_items": null,
      "align_self": null,
      "border": null,
      "bottom": null,
      "display": null,
      "flex": null,
      "flex_flow": null,
      "grid_area": null,
      "grid_auto_columns": null,
      "grid_auto_flow": null,
      "grid_auto_rows": null,
      "grid_column": null,
      "grid_gap": null,
      "grid_row": null,
      "grid_template_areas": null,
      "grid_template_columns": null,
      "grid_template_rows": null,
      "height": null,
      "justify_content": null,
      "justify_items": null,
      "left": null,
      "margin": null,
      "max_height": null,
      "max_width": null,
      "min_height": null,
      "min_width": null,
      "object_fit": null,
      "object_position": null,
      "order": null,
      "overflow": null,
      "overflow_x": null,
      "overflow_y": null,
      "padding": null,
      "right": null,
      "top": null,
      "visibility": null,
      "width": null
     }
    },
    "9cbe200a843a4050be1e9750916cdd3d": {
     "model_module": "@jupyter-widgets/controls",
     "model_module_version": "1.5.0",
     "model_name": "HBoxModel",
     "state": {
      "_dom_classes": [],
      "_model_module": "@jupyter-widgets/controls",
      "_model_module_version": "1.5.0",
      "_model_name": "HBoxModel",
      "_view_count": null,
      "_view_module": "@jupyter-widgets/controls",
      "_view_module_version": "1.5.0",
      "_view_name": "HBoxView",
      "box_style": "",
      "children": [
       "IPY_MODEL_e50d53afe07f4ee18e78c82a63224437",
       "IPY_MODEL_67c7d12c35ab4e538982c6114ba4a31b",
       "IPY_MODEL_3c7954e2d82a45e28ed46776c0d4fd68"
      ],
      "layout": "IPY_MODEL_65eb9f2ca3d245c1a4ccd6f50309ce31"
     }
    },
    "9f822142ee284600be961b8b3f46fcbd": {
     "model_module": "@jupyter-widgets/controls",
     "model_module_version": "1.5.0",
     "model_name": "FloatProgressModel",
     "state": {
      "_dom_classes": [],
      "_model_module": "@jupyter-widgets/controls",
      "_model_module_version": "1.5.0",
      "_model_name": "FloatProgressModel",
      "_view_count": null,
      "_view_module": "@jupyter-widgets/controls",
      "_view_module_version": "1.5.0",
      "_view_name": "ProgressView",
      "bar_style": "success",
      "description": "",
      "description_tooltip": null,
      "layout": "IPY_MODEL_8ef264013dba4227a24f114bc1d6acfc",
      "max": 4943178624,
      "min": 0,
      "orientation": "horizontal",
      "style": "IPY_MODEL_22d83bb649854b16b1bca2db35d84f80",
      "value": 4943178624
     }
    },
    "a00422a3dbf641f39a18c27923bea7e7": {
     "model_module": "@jupyter-widgets/controls",
     "model_module_version": "1.5.0",
     "model_name": "DescriptionStyleModel",
     "state": {
      "_model_module": "@jupyter-widgets/controls",
      "_model_module_version": "1.5.0",
      "_model_name": "DescriptionStyleModel",
      "_view_count": null,
      "_view_module": "@jupyter-widgets/base",
      "_view_module_version": "1.2.0",
      "_view_name": "StyleView",
      "description_width": ""
     }
    },
    "a24c6e2d36764c70b6b8906abc560cb4": {
     "model_module": "@jupyter-widgets/controls",
     "model_module_version": "1.5.0",
     "model_name": "DescriptionStyleModel",
     "state": {
      "_model_module": "@jupyter-widgets/controls",
      "_model_module_version": "1.5.0",
      "_model_name": "DescriptionStyleModel",
      "_view_count": null,
      "_view_module": "@jupyter-widgets/base",
      "_view_module_version": "1.2.0",
      "_view_name": "StyleView",
      "description_width": ""
     }
    },
    "a427d02cd1f04613892e5aa986380149": {
     "model_module": "@jupyter-widgets/controls",
     "model_module_version": "1.5.0",
     "model_name": "FloatProgressModel",
     "state": {
      "_dom_classes": [],
      "_model_module": "@jupyter-widgets/controls",
      "_model_module_version": "1.5.0",
      "_model_name": "FloatProgressModel",
      "_view_count": null,
      "_view_module": "@jupyter-widgets/controls",
      "_view_module_version": "1.5.0",
      "_view_name": "ProgressView",
      "bar_style": "success",
      "description": "",
      "description_tooltip": null,
      "layout": "IPY_MODEL_33d90e5a26104966bc971266825bb96b",
      "max": 4999819232,
      "min": 0,
      "orientation": "horizontal",
      "style": "IPY_MODEL_c0d04b800f514105992fa45fe821a1ed",
      "value": 4999819232
     }
    },
    "a4ed034b717243998d8f8890b76b2610": {
     "model_module": "@jupyter-widgets/controls",
     "model_module_version": "1.5.0",
     "model_name": "FloatProgressModel",
     "state": {
      "_dom_classes": [],
      "_model_module": "@jupyter-widgets/controls",
      "_model_module_version": "1.5.0",
      "_model_name": "FloatProgressModel",
      "_view_count": null,
      "_view_module": "@jupyter-widgets/controls",
      "_view_module_version": "1.5.0",
      "_view_name": "ProgressView",
      "bar_style": "success",
      "description": "",
      "description_tooltip": null,
      "layout": "IPY_MODEL_ac3139d8179549268eb64f36aaa4fe65",
      "max": 4540532640,
      "min": 0,
      "orientation": "horizontal",
      "style": "IPY_MODEL_71869938e6e142fc8b2474bac54538e5",
      "value": 4540532640
     }
    },
    "a7265490b6b74861966a165b2119786f": {
     "model_module": "@jupyter-widgets/base",
     "model_module_version": "1.2.0",
     "model_name": "LayoutModel",
     "state": {
      "_model_module": "@jupyter-widgets/base",
      "_model_module_version": "1.2.0",
      "_model_name": "LayoutModel",
      "_view_count": null,
      "_view_module": "@jupyter-widgets/base",
      "_view_module_version": "1.2.0",
      "_view_name": "LayoutView",
      "align_content": null,
      "align_items": null,
      "align_self": null,
      "border": null,
      "bottom": null,
      "display": null,
      "flex": null,
      "flex_flow": null,
      "grid_area": null,
      "grid_auto_columns": null,
      "grid_auto_flow": null,
      "grid_auto_rows": null,
      "grid_column": null,
      "grid_gap": null,
      "grid_row": null,
      "grid_template_areas": null,
      "grid_template_columns": null,
      "grid_template_rows": null,
      "height": null,
      "justify_content": null,
      "justify_items": null,
      "left": null,
      "margin": null,
      "max_height": null,
      "max_width": null,
      "min_height": null,
      "min_width": null,
      "object_fit": null,
      "object_position": null,
      "order": null,
      "overflow": null,
      "overflow_x": null,
      "overflow_y": null,
      "padding": null,
      "right": null,
      "top": null,
      "visibility": null,
      "width": null
     }
    },
    "abbd5e15b7964a998b2e8abd4b334615": {
     "model_module": "@jupyter-widgets/controls",
     "model_module_version": "1.5.0",
     "model_name": "FloatProgressModel",
     "state": {
      "_dom_classes": [],
      "_model_module": "@jupyter-widgets/controls",
      "_model_module_version": "1.5.0",
      "_model_name": "FloatProgressModel",
      "_view_count": null,
      "_view_module": "@jupyter-widgets/controls",
      "_view_module_version": "1.5.0",
      "_view_name": "ProgressView",
      "bar_style": "",
      "description": "",
      "description_tooltip": null,
      "layout": "IPY_MODEL_3a9381f7a48644a1a3243592832deeaf",
      "max": 225,
      "min": 0,
      "orientation": "horizontal",
      "style": "IPY_MODEL_46b572ab49fa43d2a323f7348a4586b1",
      "value": 68
     }
    },
    "abdec3df255641eba60e556ea0a60f26": {
     "model_module": "@jupyter-widgets/controls",
     "model_module_version": "1.5.0",
     "model_name": "ProgressStyleModel",
     "state": {
      "_model_module": "@jupyter-widgets/controls",
      "_model_module_version": "1.5.0",
      "_model_name": "ProgressStyleModel",
      "_view_count": null,
      "_view_module": "@jupyter-widgets/base",
      "_view_module_version": "1.2.0",
      "_view_name": "StyleView",
      "bar_color": null,
      "description_width": ""
     }
    },
    "ac3139d8179549268eb64f36aaa4fe65": {
     "model_module": "@jupyter-widgets/base",
     "model_module_version": "1.2.0",
     "model_name": "LayoutModel",
     "state": {
      "_model_module": "@jupyter-widgets/base",
      "_model_module_version": "1.2.0",
      "_model_name": "LayoutModel",
      "_view_count": null,
      "_view_module": "@jupyter-widgets/base",
      "_view_module_version": "1.2.0",
      "_view_name": "LayoutView",
      "align_content": null,
      "align_items": null,
      "align_self": null,
      "border": null,
      "bottom": null,
      "display": null,
      "flex": null,
      "flex_flow": null,
      "grid_area": null,
      "grid_auto_columns": null,
      "grid_auto_flow": null,
      "grid_auto_rows": null,
      "grid_column": null,
      "grid_gap": null,
      "grid_row": null,
      "grid_template_areas": null,
      "grid_template_columns": null,
      "grid_template_rows": null,
      "height": null,
      "justify_content": null,
      "justify_items": null,
      "left": null,
      "margin": null,
      "max_height": null,
      "max_width": null,
      "min_height": null,
      "min_width": null,
      "object_fit": null,
      "object_position": null,
      "order": null,
      "overflow": null,
      "overflow_x": null,
      "overflow_y": null,
      "padding": null,
      "right": null,
      "top": null,
      "visibility": null,
      "width": null
     }
    },
    "ac376675054f4666928c2a219f58bb70": {
     "model_module": "@jupyter-widgets/base",
     "model_module_version": "1.2.0",
     "model_name": "LayoutModel",
     "state": {
      "_model_module": "@jupyter-widgets/base",
      "_model_module_version": "1.2.0",
      "_model_name": "LayoutModel",
      "_view_count": null,
      "_view_module": "@jupyter-widgets/base",
      "_view_module_version": "1.2.0",
      "_view_name": "LayoutView",
      "align_content": null,
      "align_items": null,
      "align_self": null,
      "border": null,
      "bottom": null,
      "display": null,
      "flex": null,
      "flex_flow": null,
      "grid_area": null,
      "grid_auto_columns": null,
      "grid_auto_flow": null,
      "grid_auto_rows": null,
      "grid_column": null,
      "grid_gap": null,
      "grid_row": null,
      "grid_template_areas": null,
      "grid_template_columns": null,
      "grid_template_rows": null,
      "height": null,
      "justify_content": null,
      "justify_items": null,
      "left": null,
      "margin": null,
      "max_height": null,
      "max_width": null,
      "min_height": null,
      "min_width": null,
      "object_fit": null,
      "object_position": null,
      "order": null,
      "overflow": null,
      "overflow_x": null,
      "overflow_y": null,
      "padding": null,
      "right": null,
      "top": null,
      "visibility": null,
      "width": null
     }
    },
    "ad8b3ec0710d488a93f6f4b4f766a2cb": {
     "model_module": "@jupyter-widgets/controls",
     "model_module_version": "1.5.0",
     "model_name": "HTMLModel",
     "state": {
      "_dom_classes": [],
      "_model_module": "@jupyter-widgets/controls",
      "_model_module_version": "1.5.0",
      "_model_name": "HTMLModel",
      "_view_count": null,
      "_view_module": "@jupyter-widgets/controls",
      "_view_module_version": "1.5.0",
      "_view_name": "HTMLView",
      "description": "",
      "description_tooltip": null,
      "layout": "IPY_MODEL_07a430ad4ab142da9425ab0523e36ea7",
      "placeholder": "​",
      "style": "IPY_MODEL_d35dbbab94b04bde967a8420498ad45c",
      "value": "Fetching 13 files: 100%"
     }
    },
    "aebf2bfacada48229283d0cf1a518e37": {
     "model_module": "@jupyter-widgets/base",
     "model_module_version": "1.2.0",
     "model_name": "LayoutModel",
     "state": {
      "_model_module": "@jupyter-widgets/base",
      "_model_module_version": "1.2.0",
      "_model_name": "LayoutModel",
      "_view_count": null,
      "_view_module": "@jupyter-widgets/base",
      "_view_module_version": "1.2.0",
      "_view_name": "LayoutView",
      "align_content": null,
      "align_items": null,
      "align_self": null,
      "border": null,
      "bottom": null,
      "display": null,
      "flex": null,
      "flex_flow": null,
      "grid_area": null,
      "grid_auto_columns": null,
      "grid_auto_flow": null,
      "grid_auto_rows": null,
      "grid_column": null,
      "grid_gap": null,
      "grid_row": null,
      "grid_template_areas": null,
      "grid_template_columns": null,
      "grid_template_rows": null,
      "height": null,
      "justify_content": null,
      "justify_items": null,
      "left": null,
      "margin": null,
      "max_height": null,
      "max_width": null,
      "min_height": null,
      "min_width": null,
      "object_fit": null,
      "object_position": null,
      "order": null,
      "overflow": null,
      "overflow_x": null,
      "overflow_y": null,
      "padding": null,
      "right": null,
      "top": null,
      "visibility": null,
      "width": null
     }
    },
    "bd6b0f608a9b40708bcc05dc5fe6d3b2": {
     "model_module": "@jupyter-widgets/controls",
     "model_module_version": "1.5.0",
     "model_name": "DescriptionStyleModel",
     "state": {
      "_model_module": "@jupyter-widgets/controls",
      "_model_module_version": "1.5.0",
      "_model_name": "DescriptionStyleModel",
      "_view_count": null,
      "_view_module": "@jupyter-widgets/base",
      "_view_module_version": "1.2.0",
      "_view_name": "StyleView",
      "description_width": ""
     }
    },
    "bde9cb7e662043fe9ea2f5b5a9f78fca": {
     "model_module": "@jupyter-widgets/controls",
     "model_module_version": "1.5.0",
     "model_name": "DescriptionStyleModel",
     "state": {
      "_model_module": "@jupyter-widgets/controls",
      "_model_module_version": "1.5.0",
      "_model_name": "DescriptionStyleModel",
      "_view_count": null,
      "_view_module": "@jupyter-widgets/base",
      "_view_module_version": "1.2.0",
      "_view_name": "StyleView",
      "description_width": ""
     }
    },
    "c0b4d830aa124c3cb60c4b6835a1857e": {
     "model_module": "@jupyter-widgets/controls",
     "model_module_version": "1.5.0",
     "model_name": "DescriptionStyleModel",
     "state": {
      "_model_module": "@jupyter-widgets/controls",
      "_model_module_version": "1.5.0",
      "_model_name": "DescriptionStyleModel",
      "_view_count": null,
      "_view_module": "@jupyter-widgets/base",
      "_view_module_version": "1.2.0",
      "_view_name": "StyleView",
      "description_width": ""
     }
    },
    "c0d04b800f514105992fa45fe821a1ed": {
     "model_module": "@jupyter-widgets/controls",
     "model_module_version": "1.5.0",
     "model_name": "ProgressStyleModel",
     "state": {
      "_model_module": "@jupyter-widgets/controls",
      "_model_module_version": "1.5.0",
      "_model_name": "ProgressStyleModel",
      "_view_count": null,
      "_view_module": "@jupyter-widgets/base",
      "_view_module_version": "1.2.0",
      "_view_name": "StyleView",
      "bar_color": null,
      "description_width": ""
     }
    },
    "c4bf254c0e8d48f0babf29a2902a2644": {
     "model_module": "@jupyter-widgets/controls",
     "model_module_version": "1.5.0",
     "model_name": "FloatProgressModel",
     "state": {
      "_dom_classes": [],
      "_model_module": "@jupyter-widgets/controls",
      "_model_module_version": "1.5.0",
      "_model_name": "FloatProgressModel",
      "_view_count": null,
      "_view_module": "@jupyter-widgets/controls",
      "_view_module_version": "1.5.0",
      "_view_name": "ProgressView",
      "bar_style": "success",
      "description": "",
      "description_tooltip": null,
      "layout": "IPY_MODEL_38fbb8f0a9f745e69f1fb53816d03059",
      "max": 2,
      "min": 0,
      "orientation": "horizontal",
      "style": "IPY_MODEL_647a2d1a3bdf4c7d8f149d91f93228d7",
      "value": 2
     }
    },
    "c7af56ee8fbb4844884f4e25fde48665": {
     "model_module": "@jupyter-widgets/controls",
     "model_module_version": "1.5.0",
     "model_name": "HTMLModel",
     "state": {
      "_dom_classes": [],
      "_model_module": "@jupyter-widgets/controls",
      "_model_module_version": "1.5.0",
      "_model_name": "HTMLModel",
      "_view_count": null,
      "_view_module": "@jupyter-widgets/controls",
      "_view_module_version": "1.5.0",
      "_view_name": "HTMLView",
      "description": "",
      "description_tooltip": null,
      "layout": "IPY_MODEL_116be25a738041a68fd989f82da47b23",
      "placeholder": "​",
      "style": "IPY_MODEL_c957006fab46425cbb6b966f16dc5020",
      "value": " 4.54G/4.54G [02:10&lt;00:00, 18.5MB/s]"
     }
    },
    "c957006fab46425cbb6b966f16dc5020": {
     "model_module": "@jupyter-widgets/controls",
     "model_module_version": "1.5.0",
     "model_name": "DescriptionStyleModel",
     "state": {
      "_model_module": "@jupyter-widgets/controls",
      "_model_module_version": "1.5.0",
      "_model_name": "DescriptionStyleModel",
      "_view_count": null,
      "_view_module": "@jupyter-widgets/base",
      "_view_module_version": "1.2.0",
      "_view_name": "StyleView",
      "description_width": ""
     }
    },
    "ca7b0001c3b3464fa87553fdfed7ae2b": {
     "model_module": "@jupyter-widgets/controls",
     "model_module_version": "1.5.0",
     "model_name": "HBoxModel",
     "state": {
      "_dom_classes": [],
      "_model_module": "@jupyter-widgets/controls",
      "_model_module_version": "1.5.0",
      "_model_name": "HBoxModel",
      "_view_count": null,
      "_view_module": "@jupyter-widgets/controls",
      "_view_module_version": "1.5.0",
      "_view_name": "HBoxView",
      "box_style": "",
      "children": [
       "IPY_MODEL_ad8b3ec0710d488a93f6f4b4f766a2cb",
       "IPY_MODEL_6f2a37174f4349019a0726a66d5eed00",
       "IPY_MODEL_fc4b7c0cc3654061ad7cfacb29888501"
      ],
      "layout": "IPY_MODEL_eb6c12173f364818a62359c49e64e4f5"
     }
    },
    "d23b4dfb50764b34be669e0460d44915": {
     "model_module": "@jupyter-widgets/base",
     "model_module_version": "1.2.0",
     "model_name": "LayoutModel",
     "state": {
      "_model_module": "@jupyter-widgets/base",
      "_model_module_version": "1.2.0",
      "_model_name": "LayoutModel",
      "_view_count": null,
      "_view_module": "@jupyter-widgets/base",
      "_view_module_version": "1.2.0",
      "_view_name": "LayoutView",
      "align_content": null,
      "align_items": null,
      "align_self": null,
      "border": null,
      "bottom": null,
      "display": null,
      "flex": null,
      "flex_flow": null,
      "grid_area": null,
      "grid_auto_columns": null,
      "grid_auto_flow": null,
      "grid_auto_rows": null,
      "grid_column": null,
      "grid_gap": null,
      "grid_row": null,
      "grid_template_areas": null,
      "grid_template_columns": null,
      "grid_template_rows": null,
      "height": null,
      "justify_content": null,
      "justify_items": null,
      "left": null,
      "margin": null,
      "max_height": null,
      "max_width": null,
      "min_height": null,
      "min_width": null,
      "object_fit": null,
      "object_position": null,
      "order": null,
      "overflow": null,
      "overflow_x": null,
      "overflow_y": null,
      "padding": null,
      "right": null,
      "top": null,
      "visibility": null,
      "width": null
     }
    },
    "d35dbbab94b04bde967a8420498ad45c": {
     "model_module": "@jupyter-widgets/controls",
     "model_module_version": "1.5.0",
     "model_name": "DescriptionStyleModel",
     "state": {
      "_model_module": "@jupyter-widgets/controls",
      "_model_module_version": "1.5.0",
      "_model_name": "DescriptionStyleModel",
      "_view_count": null,
      "_view_module": "@jupyter-widgets/base",
      "_view_module_version": "1.2.0",
      "_view_name": "StyleView",
      "description_width": ""
     }
    },
    "d88f8aaf5ef34afb8ab2555d78047261": {
     "model_module": "@jupyter-widgets/controls",
     "model_module_version": "1.5.0",
     "model_name": "DescriptionStyleModel",
     "state": {
      "_model_module": "@jupyter-widgets/controls",
      "_model_module_version": "1.5.0",
      "_model_name": "DescriptionStyleModel",
      "_view_count": null,
      "_view_module": "@jupyter-widgets/base",
      "_view_module_version": "1.2.0",
      "_view_name": "StyleView",
      "description_width": ""
     }
    },
    "e50d53afe07f4ee18e78c82a63224437": {
     "model_module": "@jupyter-widgets/controls",
     "model_module_version": "1.5.0",
     "model_name": "HTMLModel",
     "state": {
      "_dom_classes": [],
      "_model_module": "@jupyter-widgets/controls",
      "_model_module_version": "1.5.0",
      "_model_name": "HTMLModel",
      "_view_count": null,
      "_view_module": "@jupyter-widgets/controls",
      "_view_module_version": "1.5.0",
      "_view_name": "HTMLView",
      "description": "",
      "description_tooltip": null,
      "layout": "IPY_MODEL_4f8776e4a4ad40ecbd8694d8714f8e3d",
      "placeholder": "​",
      "style": "IPY_MODEL_a00422a3dbf641f39a18c27923bea7e7",
      "value": "Fetching 13 files: 100%"
     }
    },
    "eb6c12173f364818a62359c49e64e4f5": {
     "model_module": "@jupyter-widgets/base",
     "model_module_version": "1.2.0",
     "model_name": "LayoutModel",
     "state": {
      "_model_module": "@jupyter-widgets/base",
      "_model_module_version": "1.2.0",
      "_model_name": "LayoutModel",
      "_view_count": null,
      "_view_module": "@jupyter-widgets/base",
      "_view_module_version": "1.2.0",
      "_view_name": "LayoutView",
      "align_content": null,
      "align_items": null,
      "align_self": null,
      "border": null,
      "bottom": null,
      "display": null,
      "flex": null,
      "flex_flow": null,
      "grid_area": null,
      "grid_auto_columns": null,
      "grid_auto_flow": null,
      "grid_auto_rows": null,
      "grid_column": null,
      "grid_gap": null,
      "grid_row": null,
      "grid_template_areas": null,
      "grid_template_columns": null,
      "grid_template_rows": null,
      "height": null,
      "justify_content": null,
      "justify_items": null,
      "left": null,
      "margin": null,
      "max_height": null,
      "max_width": null,
      "min_height": null,
      "min_width": null,
      "object_fit": null,
      "object_position": null,
      "order": null,
      "overflow": null,
      "overflow_x": null,
      "overflow_y": null,
      "padding": null,
      "right": null,
      "top": null,
      "visibility": null,
      "width": null
     }
    },
    "f4b7a049ca65449d93e832fce541f450": {
     "model_module": "@jupyter-widgets/base",
     "model_module_version": "1.2.0",
     "model_name": "LayoutModel",
     "state": {
      "_model_module": "@jupyter-widgets/base",
      "_model_module_version": "1.2.0",
      "_model_name": "LayoutModel",
      "_view_count": null,
      "_view_module": "@jupyter-widgets/base",
      "_view_module_version": "1.2.0",
      "_view_name": "LayoutView",
      "align_content": null,
      "align_items": null,
      "align_self": null,
      "border": null,
      "bottom": null,
      "display": null,
      "flex": null,
      "flex_flow": null,
      "grid_area": null,
      "grid_auto_columns": null,
      "grid_auto_flow": null,
      "grid_auto_rows": null,
      "grid_column": null,
      "grid_gap": null,
      "grid_row": null,
      "grid_template_areas": null,
      "grid_template_columns": null,
      "grid_template_rows": null,
      "height": null,
      "justify_content": null,
      "justify_items": null,
      "left": null,
      "margin": null,
      "max_height": null,
      "max_width": null,
      "min_height": null,
      "min_width": null,
      "object_fit": null,
      "object_position": null,
      "order": null,
      "overflow": null,
      "overflow_x": null,
      "overflow_y": null,
      "padding": null,
      "right": null,
      "top": null,
      "visibility": null,
      "width": null
     }
    },
    "fc4b7c0cc3654061ad7cfacb29888501": {
     "model_module": "@jupyter-widgets/controls",
     "model_module_version": "1.5.0",
     "model_name": "HTMLModel",
     "state": {
      "_dom_classes": [],
      "_model_module": "@jupyter-widgets/controls",
      "_model_module_version": "1.5.0",
      "_model_name": "HTMLModel",
      "_view_count": null,
      "_view_module": "@jupyter-widgets/controls",
      "_view_module_version": "1.5.0",
      "_view_name": "HTMLView",
      "description": "",
      "description_tooltip": null,
      "layout": "IPY_MODEL_1d4f01c6e6f043b7b0c463b340658618",
      "placeholder": "​",
      "style": "IPY_MODEL_52a53aa021944c3a975edfb8efcf5f29",
      "value": " 13/13 [02:26&lt;00:00, 19.88s/it]"
     }
    },
    "fc85a454876a4381bcc818196205380e": {
     "model_module": "@jupyter-widgets/controls",
     "model_module_version": "1.5.0",
     "model_name": "HTMLModel",
     "state": {
      "_dom_classes": [],
      "_model_module": "@jupyter-widgets/controls",
      "_model_module_version": "1.5.0",
      "_model_name": "HTMLModel",
      "_view_count": null,
      "_view_module": "@jupyter-widgets/controls",
      "_view_module_version": "1.5.0",
      "_view_name": "HTMLView",
      "description": "",
      "description_tooltip": null,
      "layout": "IPY_MODEL_ac376675054f4666928c2a219f58bb70",
      "placeholder": "​",
      "style": "IPY_MODEL_bd6b0f608a9b40708bcc05dc5fe6d3b2",
      "value": " 2/2 [01:32&lt;00:00, 43.32s/it]"
     }
    }
   }
  }
 },
 "nbformat": 4,
 "nbformat_minor": 4
}
